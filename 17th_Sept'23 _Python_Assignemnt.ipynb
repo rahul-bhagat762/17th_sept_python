{
 "cells": [
  {
   "cell_type": "code",
   "execution_count": 1,
   "id": "cc99a074-aa62-4d54-a5de-4ce6c958ac38",
   "metadata": {},
   "outputs": [
    {
     "name": "stdout",
     "output_type": "stream",
     "text": [
      "1\n",
      "2\n",
      "3\n",
      "4\n",
      "5\n",
      "6\n",
      "7\n",
      "8\n",
      "9\n",
      "10\n"
     ]
    }
   ],
   "source": [
    "# Write a Python program to print numbers from 1 to 10 using a for loop.\n",
    "for i in range(1,11): ##this loop start from 1 and end 11-1 = 10 (for loop is execute n-1)\n",
    "    print(i) ##this line is used to print(1 to 10)"
   ]
  },
  {
   "cell_type": "code",
   "execution_count": null,
   "id": "5e4dce75-0ef4-4421-b562-e8f3383ba820",
   "metadata": {},
   "outputs": [],
   "source": [
    "# Explain the difference between a for loop and a while loop in Python.\n",
    "# both for and while is used for looping purpose\n",
    "\n",
    "\n",
    "## for loop \n",
    "# this loop is used when user know exactly how many loop they want means exact number of iteration \n",
    "#this loop do automatically incease or decrease the pointer\n",
    "# for statement iterates through a collection or iterable object or generator function.\n",
    "\n",
    "\n",
    "##while loop\n",
    "## this loop is used when user dont know exactly how many loop they want means exact number of iteration \n",
    "###this loop dont automatically incease or decrease the pointer\n",
    "# The while statement simply loops until a condition is False.\n"
   ]
  },
  {
   "cell_type": "code",
   "execution_count": 3,
   "id": "f7cd0063-994d-44e3-913a-653990baa26b",
   "metadata": {},
   "outputs": [
    {
     "name": "stdout",
     "output_type": "stream",
     "text": [
      "5050\n"
     ]
    }
   ],
   "source": [
    "# Write a Python program to calculate the sum of all numbers from 1 to 100 using a for loop.\n",
    "n= 100\n",
    "sum = 0\n",
    "for i in range(1,n+1):\n",
    "    sum+=i\n",
    "print(sum)"
   ]
  },
  {
   "cell_type": "code",
   "execution_count": 5,
   "id": "6a625448-c489-4a92-8af9-0cf8fbb5f0c1",
   "metadata": {},
   "outputs": [
    {
     "name": "stdout",
     "output_type": "stream",
     "text": [
      "1\n",
      "2\n",
      "3\n",
      "4\n",
      "5\n",
      "6\n",
      "7\n",
      "8\n"
     ]
    }
   ],
   "source": [
    "# How do you iterate through a list using a for loop in Python?\n",
    "li = [1,2,3,4,5,6,7,8] #this is a sample list \n",
    "for i in li: #this for loop is used for triverse element of the list one by one \n",
    "    # i is a pointer which is used for triverse a list\n",
    "    # \"in\" is a operater which is used to enter in the list and take element one by one\n",
    "    # li is the original list \n",
    "    ## strating of the for loop value of i is 0 (because by default for loop is start with 0)\n",
    "    ## so value of i is 0 then pointer take 0th element of the loop and execute further operations\n",
    "    ## then value of i is 1 ,2,3,4,5 and so on \n",
    "    print(i) ## in this example print ith element of the list"
   ]
  },
  {
   "cell_type": "code",
   "execution_count": 11,
   "id": "88b528e7-fc68-4e91-87de-dd60ab31de2d",
   "metadata": {},
   "outputs": [
    {
     "name": "stdout",
     "output_type": "stream",
     "text": [
      "40320\n"
     ]
    }
   ],
   "source": [
    "# Write a Python program to find the product of all elements in a list using a for loop.\n",
    "mul = 1 ##this is a mul variable which is used for multiply\n",
    "for i in li: ##this loop take each element of the loop one by one \n",
    "    mul*=i ## this line is used to multiply each and every element one by one and store in mul variable \n",
    "print(mul) ##this line is used to print multiplication result after multiplpy"
   ]
  },
  {
   "cell_type": "code",
   "execution_count": 12,
   "id": "6d306c0d-b525-4432-92ec-f4ae3cc71e32",
   "metadata": {},
   "outputs": [
    {
     "name": "stdout",
     "output_type": "stream",
     "text": [
      "2\n",
      "4\n",
      "6\n",
      "8\n",
      "10\n",
      "12\n",
      "14\n",
      "16\n",
      "18\n",
      "20\n"
     ]
    }
   ],
   "source": [
    "# Create a Python program that prints all even numbers from 1 to 20 using a for loop.\n",
    "n = 20 ##this line used to take input as limit at which number you want even number \n",
    "for i in range(1,n+1): ##this loop is used generate number 1 to n\n",
    "    if(i%2==0): ##this line is used to check generated number is even or not(if ith number is divisible by 2 , if yes then print i )\n",
    "        print(i) ##this line is used to print ith element"
   ]
  },
  {
   "cell_type": "code",
   "execution_count": 20,
   "id": "bc6fbd50-e8ac-4780-a9c9-e7f60fa91a36",
   "metadata": {},
   "outputs": [
    {
     "name": "stdin",
     "output_type": "stream",
     "text": [
      "Enter your number : 45\n"
     ]
    },
    {
     "name": "stdout",
     "output_type": "stream",
     "text": [
      "119622220865480194561963161495657715064383733760000000000\n"
     ]
    }
   ],
   "source": [
    "# Write a Python program that calculates the factorial of a number using a for loop.\n",
    "n = int(input(\"Enter your number :\")) ##this line is used to take input from user\n",
    "fact = 1 #this varoble is used to store factorial of any number initially assign by 1\n",
    "if(n==0): #if user give 0 then store in fact 1\n",
    "    fact = 1\n",
    "else: ##else calculate factorial\n",
    "    for i in range(1,n+1): ##thi loop is used to generate intger from 1 to n\n",
    "        fact*=i ##this line is used multiply factorial with generated element by for loop \n",
    "        ##fact = fact * i (1*2*3*4*5 and so on)\n",
    "print(fact) ##this line is used to print factorial after calculation factorial"
   ]
  },
  {
   "cell_type": "code",
   "execution_count": 21,
   "id": "2dcd28df-9d9d-4295-baa8-be2d981c9a2f",
   "metadata": {},
   "outputs": [
    {
     "name": "stdout",
     "output_type": "stream",
     "text": [
      "r\n",
      "a\n",
      "m\n",
      " \n",
      "i\n",
      "s\n",
      " \n",
      "c\n",
      "l\n",
      "e\n",
      "a\n",
      "v\n",
      "e\n",
      "r\n",
      " \n",
      "p\n",
      "e\n",
      "r\n",
      "s\n",
      "o\n",
      "n\n"
     ]
    }
   ],
   "source": [
    "# How can you iterate through the characters of a string using a for loop in Python?\n",
    "s = \"ram is cleaver person\"\n",
    " #this is a sample string\n",
    "for i in s: #this for loop is used for triverse element of the string one by one \n",
    "    # i is a pointer which is used for triverse a string\n",
    "    # \"in\" is a operater which is used to enter in the string , split into characters and then take characters one by one\n",
    "    # s is the original string \n",
    "    ## strating of the for loop value of i is 0 (because by default for loop is start with 0)\n",
    "    ## so value of i is 0 then pointer take 0th character of the string and execute further operations\n",
    "    ## then value of i is 1 ,2,3,4,5 and so on \n",
    "    print(i) ## in this example print ith element of the string"
   ]
  },
  {
   "cell_type": "code",
   "execution_count": 24,
   "id": "29ccc486-be8e-476a-ab32-cb1462bb933d",
   "metadata": {},
   "outputs": [
    {
     "name": "stdout",
     "output_type": "stream",
     "text": [
      "89\n"
     ]
    }
   ],
   "source": [
    "# Write a Python program to find the largest number in a list using a for loop.\n",
    "l1 = [23,45,57,78,23,54,56,78,89] #this is a sample list\n",
    "high = -1 ##this high variable is assign by minimum number\n",
    "for i in (l1): ##this for loop is used to triverse every element of the list one by one\n",
    "    if high<i: ##if high is less then i \n",
    "        high = i ##then assign i to the high\n",
    "print(high) ##this line is used to print(high)"
   ]
  },
  {
   "cell_type": "code",
   "execution_count": 30,
   "id": "e3507c1e-d476-41e8-85af-f7b5bbc619a7",
   "metadata": {},
   "outputs": [
    {
     "name": "stdin",
     "output_type": "stream",
     "text": [
      "enter your number: 65\n"
     ]
    },
    {
     "name": "stdout",
     "output_type": "stream",
     "text": [
      "0 1 1 2 3 5 8 13 21 34 55 89 144 233 377 610 987 1597 2584 4181 6765 10946 17711 28657 46368 75025 121393 196418 317811 514229 832040 1346269 2178309 3524578 5702887 9227465 14930352 24157817 39088169 63245986 102334155 165580141 267914296 433494437 701408733 1134903170 1836311903 2971215073 4807526976 7778742049 12586269025 20365011074 32951280099 53316291173 86267571272 139583862445 225851433717 365435296162 591286729879 956722026041 1548008755920 2504730781961 4052739537881 6557470319842 10610209857723 "
     ]
    }
   ],
   "source": [
    "# Create a Python program that prints the Fibonacci sequence up to a specified limit using a for loop.\n",
    "n = int(input(\"enter your number:\")) ##this line is used to take input from user\n",
    "a,b = 0,1 ##this line is used to  assign a and b by 0 and 1\n",
    "if(n==0): ##if n is equal to zero\n",
    "    print(\"0\") ## then print(0)\n",
    "elif(n==1): #elif n==1 \n",
    "    print(\"1\") #then print(1)\n",
    "else: ##else enter in this else block\n",
    "    for i in range(n): ##this for loop is generate number from 1 to n\n",
    "        print(a,end =\" \") ##this line is used to print a\n",
    "        a,b = b,a+b ##this line is used to update value of a nd b, a is assign by b and b is assign by a+b"
   ]
  },
  {
   "cell_type": "code",
   "execution_count": 1,
   "id": "24187232-1144-4b9b-ba8f-432ce8e190ba",
   "metadata": {},
   "outputs": [
    {
     "name": "stdout",
     "output_type": "stream",
     "text": [
      "8\n"
     ]
    }
   ],
   "source": [
    "# Write a Python program to count the number of vowels in a given string using a for loop.\n",
    "s = \"ram is a cleaver person\" ##this a string where we find vowel\n",
    "count = 0 ## count variable is used to take count of vowels\n",
    "vowel = \"aeiouAEIOU\" ##string of vowels \n",
    "for i in s: #take each and every character of the string \n",
    "    if i in vowel: ##if this charcter of string \"s\" is present in vowels then increase count by 1 \n",
    "        count+=1\n",
    "print(count) ##print count of the vowels in string "
   ]
  },
  {
   "cell_type": "code",
   "execution_count": 2,
   "id": "1eecea68-0ac9-4c3a-ae0d-c01904dbfca2",
   "metadata": {},
   "outputs": [
    {
     "name": "stdin",
     "output_type": "stream",
     "text": [
      "Enter a number for table: 2\n"
     ]
    },
    {
     "name": "stdout",
     "output_type": "stream",
     "text": [
      "2 X 1 = 2\n",
      "2 X 2 = 4\n",
      "2 X 3 = 6\n",
      "2 X 4 = 8\n",
      "2 X 5 = 10\n",
      "2 X 6 = 12\n",
      "2 X 7 = 14\n",
      "2 X 8 = 16\n",
      "2 X 9 = 18\n",
      "2 X 10 = 20\n"
     ]
    }
   ],
   "source": [
    "#Create a Python program that generates a multiplication table for a given number using a for loop.\n",
    "n = int(input(\"Enter a number for table:\")) ##take input from user\n",
    "for i in range(1,11): ##loop for generate 1 to 10 integer\n",
    "    print(f\"{n} X {i} = {n*i}\") #this line is used to print table of any number (2 X 1 = 2)"
   ]
  },
  {
   "cell_type": "code",
   "execution_count": 14,
   "id": "c622550e-86ec-460d-88ba-0bf21a17d9d8",
   "metadata": {},
   "outputs": [
    {
     "name": "stdout",
     "output_type": "stream",
     "text": [
      "10 9 8 7 6 5 4 3 2 1 "
     ]
    }
   ],
   "source": [
    "# Write a Python program to reverse a list using a for loop.\n",
    "l= [1,2,3,4,5,6,7,8,9,10] ##this list takr for reverse\n",
    "for i in l[::-1]: ##this for loop take element from the list by end of the list and print it\n",
    "    print(i, end=\" \") ##this line is used to print element from the list\n",
    "    "
   ]
  },
  {
   "cell_type": "code",
   "execution_count": 17,
   "id": "21763083-d454-415f-8a9d-0ba22358dc5a",
   "metadata": {},
   "outputs": [
    {
     "name": "stdout",
     "output_type": "stream",
     "text": [
      "a b c "
     ]
    }
   ],
   "source": [
    " # Write a Python program to find the common elements between two lists using a for loop.\n",
    "l1 = ['a','b','c','d','e'] ##this is first list\n",
    "l2 =['a','b','c'] ##this is second list\n",
    "for i in l1: #take element from list l1\n",
    "    if i in l2: #check if l1's  element present in l2 then \n",
    "        print(i, end = \" \") ##print l1's element "
   ]
  },
  {
   "cell_type": "code",
   "execution_count": 19,
   "id": "a044df64-5e6e-48eb-91a5-f5de2e7b869f",
   "metadata": {},
   "outputs": [
    {
     "name": "stdout",
     "output_type": "stream",
     "text": [
      "key : rahul and  value : 1\n",
      "key : rohit and  value : 2\n",
      "key : ram and  value : 3\n"
     ]
    }
   ],
   "source": [
    "# Explain how to use a for loop to iterate through the keys and values of a dictionary in Python.\n",
    "# in python there is an operater named as dictionary\n",
    "#which is used to store key value pair \n",
    "#it is in ordered form \n",
    "# we can use a 'for' loop ti iterate through the key value of a dictionary using .items() method\n",
    "# which return seuence of key-value pairs as tuple\n",
    "dict = {'rahul' : 1,'rohit': 2, 'ram' : 3} ##The loop continues until all key-value pairs in the dictionary have been processed.\n",
    "for key,value in dict.items():\n",
    "    print(f\"key : {key} and  value : {value}\")\n",
    "##This allows you to access both the keys and values of the dictionary elements within the loop and perform any desired operations on them.\n"
   ]
  },
  {
   "cell_type": "code",
   "execution_count": 4,
   "id": "a9c631d7-476d-4070-af68-d5953368e37e",
   "metadata": {},
   "outputs": [
    {
     "name": "stdin",
     "output_type": "stream",
     "text": [
      "Enter your string : saras\n"
     ]
    },
    {
     "name": "stdout",
     "output_type": "stream",
     "text": [
      "It is palindrom\n"
     ]
    }
   ],
   "source": [
    "# Create a Python program that checks if a string is a palindrome using a for loop.\n",
    "s = input(\"Enter your string :\") ## this line is take input from user \n",
    "reverse= \"\" ##this variable is created for store reverse string\n",
    "for i in (s[::-1]): ##this for loop is used creat reverse of this taken string \n",
    "    reverse+=i ##this line is for store reverse strinng\n",
    "if(s==reverse): ##this line is used for check this  reversed string is equal to original string or not \n",
    "    print(\"It is palindrom\") ##if this reversed string is equal to original string then this is called  palindrom\n",
    "else:\n",
    "    print(\"it is not palndrom\") ##else this is not palindrom\n"
   ]
  },
  {
   "cell_type": "code",
   "execution_count": 20,
   "id": "0f0848cf-f4fc-4720-9824-9a73842b4318",
   "metadata": {},
   "outputs": [
    {
     "name": "stdin",
     "output_type": "stream",
     "text": [
      "Enter your list: 1,2,3,4,5,6,7,8,1,2,3,4,5,6,4,5,6\n"
     ]
    },
    {
     "name": "stdout",
     "output_type": "stream",
     "text": [
      "[1, 2, 3, 4, 5, 6, 7, 8]\n"
     ]
    }
   ],
   "source": [
    "# Write a Python program to remove duplicates from a list using a for loop.\n",
    "def remove_duplicate(l1): #This function is used to remove duplucate element from the list\n",
    "    unique_element = [] ##this line is used for store unique element \n",
    "    for i in l1: ##this line is used to take an element from the list \n",
    "        if i not in unique_element: #and check this element is present in unique list or not \n",
    "            unique_element.append(i) ##if not present then append this element in the list\n",
    "    return unique_element ##and after that return this unique_list\n",
    "\n",
    "l= [] ##in this line a list l wich is empty\n",
    "l = map(int,input(\"Enter your list:\").split(\",\")) #take element of the list from user \n",
    "print(remove_duplicate(l)) ##this line is used to call remove_dupicate_element which is used to remove duplicate element from the list"
   ]
  },
  {
   "cell_type": "code",
   "execution_count": 6,
   "id": "bbb97db9-5b7e-4fc9-a6fb-9e6d1e77712e",
   "metadata": {},
   "outputs": [
    {
     "data": {
      "text/plain": [
       "[1, 3]"
      ]
     },
     "execution_count": 6,
     "metadata": {},
     "output_type": "execute_result"
    }
   ],
   "source": [
    "l1 = [1,2,3]\n",
    "l1.remove(2)\n",
    "l1"
   ]
  },
  {
   "cell_type": "code",
   "execution_count": 24,
   "id": "ecccdb3d-038a-4979-bf20-2c525f525663",
   "metadata": {},
   "outputs": [
    {
     "name": "stdin",
     "output_type": "stream",
     "text": [
      "enter your string : ram is a cleaver and it is a very intelligent person\n"
     ]
    },
    {
     "name": "stdout",
     "output_type": "stream",
     "text": [
      "your count of words is 11\n"
     ]
    }
   ],
   "source": [
    "# Create a Python program that counts the number of words in a sentence using a for loop.\n",
    "n = input(\"enter your string :\")\n",
    "l= [i for i in n.split(\" \")]\n",
    "l\n",
    "print(f\"your count of words is {len(l)}\")"
   ]
  },
  {
   "cell_type": "code",
   "execution_count": 25,
   "id": "08a26db9-3479-4fae-9a07-208cdb53a8a3",
   "metadata": {},
   "outputs": [
    {
     "name": "stdout",
     "output_type": "stream",
     "text": [
      "625\n"
     ]
    }
   ],
   "source": [
    "# Write a Python program to find the sum of all odd numbers from 1 to 50 using a for loop.\n",
    "sum = 0\n",
    "for i in range(1,51):\n",
    "    if(i%2!=0):\n",
    "        sum+=i\n",
    "print(sum)"
   ]
  },
  {
   "cell_type": "code",
   "execution_count": 10,
   "id": "8d1f37ac-324c-411c-853a-db719b8d7513",
   "metadata": {},
   "outputs": [
    {
     "name": "stdin",
     "output_type": "stream",
     "text": [
      "Enter your year: 2023\n"
     ]
    },
    {
     "name": "stdout",
     "output_type": "stream",
     "text": [
      "2023 is not leap year\n"
     ]
    }
   ],
   "source": [
    "#Write a Python program that checks if a given year is a leap year using a for loop.\n",
    "def leap_year(year): ##this is function is used to check this year is leap year or not \n",
    "    if((year%4==0 and year%100!=0) or (year%400==0)):\n",
    "        ##if year is divided by 4 and year is not divided by 100 or year is divided by 400 then it return true \n",
    "        return True\n",
    "    else: ##else return False\n",
    "        return False\n",
    "year = int(input(\"Enter your year:\")) ##this line is used to take input from user\n",
    "\n",
    "if leap_year(year): ##check if year is leap year or not if yes then print(\"year is leap year\")\n",
    "    print(f\"{year} is leap year\")\n",
    "else: ##else this year is not leap year \n",
    "    print(f\"{year} is not leap year\")"
   ]
  },
  {
   "cell_type": "code",
   "execution_count": 6,
   "id": "89114fa7-75a5-4993-8f39-ed364d163d94",
   "metadata": {},
   "outputs": [
    {
     "name": "stdin",
     "output_type": "stream",
     "text": [
      "Enter your number: 24\n"
     ]
    },
    {
     "name": "stdout",
     "output_type": "stream",
     "text": [
      "The square root of 24.0 is approximately 4.898979\n"
     ]
    }
   ],
   "source": [
    "# Create a Python program that calculates the square root of a number using a for loop.\n",
    "def calculate_square_root(n):\n",
    "    if(n<0): #if n is negative \n",
    "        return \"Input must be non negetive \"\n",
    "    guess = n/2.0  # Start with an initial guess\n",
    "    for _ in range(1000):\n",
    "        guess = (guess + n/guess)/2.0 #Use the Newton-Raphson method\n",
    "    return guess\n",
    "\n",
    "# Input a number for which you want to calculate the square root\n",
    "n = float(input(\"Enter your number:\"))\n",
    "square_root = calculate_square_root(n)\n",
    "print(f\"The square root of {n} is approximately {square_root:.6f}\")"
   ]
  },
  {
   "cell_type": "code",
   "execution_count": 8,
   "id": "1a3d835b-0a93-438c-ae72-48968fc9c3b6",
   "metadata": {},
   "outputs": [
    {
     "name": "stdin",
     "output_type": "stream",
     "text": [
      "Enter your two nubers separated by ',': 44,66\n"
     ]
    },
    {
     "name": "stdout",
     "output_type": "stream",
     "text": [
      "your LCM is 132 of two number 44, 66\n"
     ]
    }
   ],
   "source": [
    "# Write a Python program to find the LCM (Least Common Multiple) of two numbers using a for loop.\n",
    "def GCD(a,b): ##this function is used for calculate GCD\n",
    "    while(b!=0): ##while b is not equal to 0\n",
    "        a,b = b,a%b \n",
    "    return a #at the end of the function return a\n",
    "def LCM(num1,num2): ##this loop is used for calculate LCM of two number\n",
    "    lcm = (num1 * num2)//GCD(num1,num2) #formula of LCM is ( (num1 * num2)//GCD(num1,num2))\n",
    "    return lcm #then return lcm\n",
    "\n",
    "#this line is used for take input from user\n",
    "a,b = map(int,input(\"Enter your two nubers separated by ',':\").split(','))\n",
    "#this line is used for call LCM(a,b) and print its result\n",
    "print(f\"your LCM is {LCM(a,b)} of two number {a}, {b}\")"
   ]
  },
  {
   "cell_type": "markdown",
   "id": "fce5fe03-0363-4aec-b8ef-5446f65bb277",
   "metadata": {},
   "source": [
    "If else :"
   ]
  },
  {
   "cell_type": "code",
   "execution_count": 11,
   "id": "85c497a3-752b-4453-a767-4e5b16500b8c",
   "metadata": {},
   "outputs": [
    {
     "name": "stdin",
     "output_type": "stream",
     "text": [
      "Enter your number: -32\n"
     ]
    },
    {
     "name": "stdout",
     "output_type": "stream",
     "text": [
      "your number is Negative \n"
     ]
    }
   ],
   "source": [
    "# Write a Python program to check if a number is positive, negative, or zero using an if-else statement.\n",
    "n = int(input(\"Enter your number:\")) ##take input from user \n",
    "if(n<0): ##if n is less then 0 then it is called negative number\n",
    "    print(\"your number is Negative \")\n",
    "elif(n>0): ##if n is greater then 0 then it is called positive number\n",
    "    print(\"your number is positive\")\n",
    "else: ##else it is zero\n",
    "    print(\"your number is zero\")"
   ]
  },
  {
   "cell_type": "code",
   "execution_count": 14,
   "id": "94d03240-23bd-45e3-a9ab-f733b355cea9",
   "metadata": {},
   "outputs": [
    {
     "name": "stdin",
     "output_type": "stream",
     "text": [
      "Enter your number: 46\n"
     ]
    },
    {
     "name": "stdout",
     "output_type": "stream",
     "text": [
      "your number is evem number\n"
     ]
    }
   ],
   "source": [
    "# Create a Python program that checks if a given number is even or odd using an if-else statement.\n",
    "n = int(input(\"Enter your number:\")) ##this line is used to take input from user\n",
    "if(n%2==0): ##this line is check n is divisible by 2 or not if yes, then print(even)\n",
    "    print(\"your number is evem number\")\n",
    "else:  #else print(odd)\n",
    "    print(\"your number is odd number\")"
   ]
  },
  {
   "cell_type": "code",
   "execution_count": 16,
   "id": "6a03d2f1-a087-4ddc-8973-df061e072a14",
   "metadata": {},
   "outputs": [
    {
     "name": "stdin",
     "output_type": "stream",
     "text": [
      "Enter your three number separated by ',': 3,56,77\n"
     ]
    },
    {
     "name": "stdout",
     "output_type": "stream",
     "text": [
      "77 is greater\n"
     ]
    }
   ],
   "source": [
    "# How can you use nested if-else statements in Python, and provide an example?\n",
    "# the nested means something inside something\n",
    "# nested if else means another if else inside the if else\n",
    "#now we look how i use a nested if else using an example \n",
    "##eg. greater among three number\n",
    "#take input from user separated by ','\n",
    "a,b,c = map(int,input(\"Enter your three number separated by ',':\").split(\",\"))\n",
    "if(a>b): ##if a is greater then further check a is greater then c\n",
    "    if(a>c): ##if a is greater then c then print(a is greater)\n",
    "        print(f\"{a} is greater\")\n",
    "    else: ##else print(c is greater)\n",
    "        print(f\"{c} is greater\")\n",
    "elif(b>c):  ##if b is greater then further check b is greater then a\n",
    "    if(b>a):  ##if b is greater then a then print(b is greater)\n",
    "        print(f\"{a} is greater\")\n",
    "    else:  ##else print(a is greater)\n",
    "        print(f\"{a} is greater\")\n",
    "elif(c>a): ##if c is greater then further check c is greater then a\n",
    "    if(c>b): ##if c is greater then b then print(c is greater)\n",
    "        print(f\"{c} is greater\")\n",
    "    else:  ##else print(b is greater)\n",
    "        print(f\"{b} is greater\")"
   ]
  },
  {
   "cell_type": "code",
   "execution_count": null,
   "id": "98f94033-211a-4c15-8073-a0e2206a6c78",
   "metadata": {},
   "outputs": [],
   "source": [
    "# Write a Python program to determine the largest of three numbers using if-else.\n",
    "#take input from user separated by ','\n",
    "a,b,c = map(int,input(\"Enter your three number separated by ',':\").split(\",\"))\n",
    "if(a>b): ##if a is greater then further check a is greater then c\n",
    "    if(a>c): ##if a is greater then c then print(a is greater)\n",
    "        print(f\"{a} is greater\")\n",
    "    else: ##else print(c is greater)\n",
    "        print(f\"{c} is greater\")\n",
    "elif(b>c):  ##if b is greater then further check b is greater then a\n",
    "    if(b>a):  ##if b is greater then a then print(b is greater)\n",
    "        print(f\"{a} is greater\")\n",
    "    else:  ##else print(a is greater)\n",
    "        print(f\"{a} is greater\")\n",
    "elif(c>a): ##if c is greater then further check c is greater then a\n",
    "    if(c>b): ##if c is greater then b then print(c is greater)\n",
    "        print(f\"{c} is greater\")\n",
    "    else:  ##else print(b is greater)\n",
    "        print(f\"{b} is greater\")"
   ]
  },
  {
   "cell_type": "code",
   "execution_count": 20,
   "id": "e88d1736-3be5-45b7-bcb5-2bc81643a340",
   "metadata": {},
   "outputs": [
    {
     "name": "stdin",
     "output_type": "stream",
     "text": [
      "Enter your number : -45\n"
     ]
    },
    {
     "name": "stdout",
     "output_type": "stream",
     "text": [
      "your absolute value  is 45\n"
     ]
    }
   ],
   "source": [
    "# Write a Python program that calculates the absolute value of a number using if-else.\n",
    "def abs(n): ##this fuction is used to return absolute value\n",
    "    if(n<0): ##if n is less then 0 then return -n\n",
    "        return -n\n",
    "    else: #else return n\n",
    "        return n\n",
    "n = int(input(\"Enter your number :\")) ##this line is used to take input from user\n",
    "print(f\"your absolute value  is {abs(n)}\") ##this line is used to display absolute value"
   ]
  },
  {
   "cell_type": "code",
   "execution_count": 26,
   "id": "1bdc1965-5691-481a-9a2c-fe48a4502eef",
   "metadata": {},
   "outputs": [
    {
     "name": "stdin",
     "output_type": "stream",
     "text": [
      "Enter your charater: F\n"
     ]
    },
    {
     "name": "stdout",
     "output_type": "stream",
     "text": [
      "your character F  is consonant\n"
     ]
    }
   ],
   "source": [
    "# Create a Python program that checks if a given character is a vowel or consonant using if-else.\n",
    "n = input(\"Enter your charater:\") ##this line is used to take input from user \n",
    "vowel = 'aeiouAEIOU' ##collection of vowels\n",
    "if n in vowel: ##if n is present in vowel then print(this is vowel)\n",
    "    print(\"your character\", n, \" is vowel\")\n",
    "else: ##else prnt(this is consonant)\n",
    "     print(\"your character\", n, \" is consonant\")\n",
    "        \n",
    "    "
   ]
  },
  {
   "cell_type": "code",
   "execution_count": 29,
   "id": "e4124b9f-fee6-42d9-acaa-c42ce74d9cbb",
   "metadata": {},
   "outputs": [
    {
     "name": "stdin",
     "output_type": "stream",
     "text": [
      "Ente your age: 45\n"
     ]
    },
    {
     "name": "stdout",
     "output_type": "stream",
     "text": [
      "You are eligible for voting\n"
     ]
    }
   ],
   "source": [
    "# Write a Python program to determine if a user is eligible to vote based on their age using if-else.\n",
    "n = int(input(\"Ente your age:\"))\n",
    "if(n<18):\n",
    "    print(\"You are not eligible for voting\")\n",
    "else:\n",
    "    print(\"You are eligible for voting\")"
   ]
  },
  {
   "cell_type": "code",
   "execution_count": 33,
   "id": "8869cd6f-c146-4aec-815a-33ca92e93c02",
   "metadata": {},
   "outputs": [
    {
     "name": "stdin",
     "output_type": "stream",
     "text": [
      "Enter your total ammount: 45675\n"
     ]
    },
    {
     "name": "stdout",
     "output_type": "stream",
     "text": [
      "your discount is 6851.25\n"
     ]
    }
   ],
   "source": [
    "# Create a Python program that calculates the discount amount based on the purchase amount using if-else.\n",
    "def discount(p): ##this function is used to return how much percent discount is apply on original price and return percentage\n",
    "    dis = 0 \n",
    "    if(p<500): ##if price is less then 500 then no any discount apply\n",
    "        dis = 0\n",
    "    elif(p<=1000): ##if price is less then 1000 then apply 5% discount will apply on the original price\n",
    "        dis = 0.05\n",
    "    elif(p<=2000):##if price is less then 2000 then apply 10% discount will apply on the original price\n",
    "        dis = 0.1\n",
    "    else: #else 15% discount will apply on the original price\n",
    "        dis = 0.15\n",
    "    return dis ##return percentage of discount\n",
    "price = int(input(\"Enter your total ammount:\")) ##enter customers ammount\n",
    "discount_price = price * discount(price) ##calculated discount \n",
    "print(f\"your discount is {discount_price}\") ##display discount"
   ]
  },
  {
   "cell_type": "code",
   "execution_count": 34,
   "id": "c17e7525-8490-455e-b7be-1b06c0d2e8a4",
   "metadata": {},
   "outputs": [
    {
     "name": "stdin",
     "output_type": "stream",
     "text": [
      "Enter your number which have to check : 234\n"
     ]
    },
    {
     "name": "stdout",
     "output_type": "stream",
     "text": [
      "234.0 is outside the range [10, 60]\n"
     ]
    }
   ],
   "source": [
    "# Write a Python program to check if a number is within a specified range using if-else.\n",
    "n = float(input(\"Enter your number which have to check :\")) ##this line is used to take input from user \n",
    "lower_range = 10 #(thses vriable is used to define lower and upper bound)\n",
    "upper_range = 60\n",
    "if lower_range<=n<=upper_range: ##if n is lies in between lower and upper range\n",
    "    print(f\"{n} is within the range [{lower_range}, {upper_range}]\") ##then print n is lies between given limit\n",
    "else:\n",
    "    print(f\"{n} is outside the range [{lower_range}, {upper_range}]\") ##else print(n is not lies between given limit )\n",
    "    "
   ]
  },
  {
   "cell_type": "code",
   "execution_count": 43,
   "id": "717d2f3d-88d6-4e23-b19e-544e922841df",
   "metadata": {},
   "outputs": [
    {
     "name": "stdin",
     "output_type": "stream",
     "text": [
      "Enter your score: 65.87\n"
     ]
    },
    {
     "name": "stdout",
     "output_type": "stream",
     "text": [
      "Graede :D\n"
     ]
    }
   ],
   "source": [
    "# Create a Python program that determines the grade of a student based on their score using if-else.\n",
    "s = float(input(\"Enter your score:\")) ##this line is used to take score from user\n",
    "if(90<s<=100): ##if score is less then or equal to 100 and s is greater then 90 then Grade A\n",
    "    print(\"Graede :A\")\n",
    "elif(80<s<=90): ##if score is less then or equal to 90 and s is greater then 80 then Grade B\n",
    "    print(\"Graede :B\")\n",
    "elif(70<s<=80): ##if score is less then or equal to 80 and s is greater then 70 then Grade C\n",
    "    print(\"Graede :C\")\n",
    "elif(60<s<=70): ##if score is less then or equal to 70 and s is greater then 60 then Grade D\n",
    "    print(\"Graede :D\")\n",
    "elif(0<s<=60): ##if score is less then or equal to 60 and s is greater then 0 then Grade F\n",
    "    print(\"Graede :F\")\n",
    "else: ##else please enter positive number\n",
    "    print(\"Please enter positive number\")"
   ]
  },
  {
   "cell_type": "code",
   "execution_count": 1,
   "id": "0613ca11-7725-42e8-a09e-8f5a67384d1d",
   "metadata": {},
   "outputs": [
    {
     "name": "stdout",
     "output_type": "stream",
     "text": [
      "string is empty\n"
     ]
    }
   ],
   "source": [
    "# Write a Python program to check if a string is empty or not using if-else.\n",
    "s = \" \" ##this is a sample empty string \n",
    "if (not s) or s==\" \": ##there are two conditions if some thing is not present in s or s is equal to  \" \"\n",
    "    print(\"string is empty\") ##print(\"string is empty\")\n",
    "else: ##else print(\"string is not empty\"\")\n",
    "    print(\"string is not empty\")"
   ]
  },
  {
   "cell_type": "code",
   "execution_count": 8,
   "id": "071568c2-4cf2-44ca-bb32-0318417ce271",
   "metadata": {},
   "outputs": [
    {
     "name": "stdin",
     "output_type": "stream",
     "text": [
      "Enter side of triangle 23,34,56\n"
     ]
    },
    {
     "name": "stdout",
     "output_type": "stream",
     "text": [
      "It is Scalene\n"
     ]
    }
   ],
   "source": [
    "# Create a Python program that identifies the type of a triangle (e.g., equilateral, isosceles, or scalene) based on input values using if-else.\n",
    "s1,s2,s3 =map(int,input(\"Enter side of triangle\").split(\",\")) ##this line is used to take multiple input from user\n",
    "if(s1==s2 or s2==s3 or s3==s1): ##if s1 is equal to s2 and s2 is equal to s3 and s3 is equal to s1\n",
    "    print(\"It is equilateral\") ##then it is called equilateral\n",
    "elif(s1==s2 or s2==s3 and s3==s1): ##if s1 is equal to s2 or s2 is equal to s3 or s3 is equal to s1\n",
    "    print(\"It is Isoscaler\") ##then It is Isoscaler\n",
    "else: \n",
    "    print(\"It is Scalene\") ##else \"It is Scalene\""
   ]
  },
  {
   "cell_type": "code",
   "execution_count": null,
   "id": "02130ae1-3247-4d6c-b5dc-73b50f5b1dab",
   "metadata": {},
   "outputs": [],
   "source": [
    "# Create a Python program that checks if a given year is a leap year using both if-else and a function\n",
    "def leap_year(year): ##this is function is used to check this year is leap year or not \n",
    "    if((year%4==0 and year%100!=0) or (year%400==0)):\n",
    "        ##if year is divided by 4 and year is not divided by 100 or year is divided by 400 then it return true \n",
    "        return True\n",
    "    else: ##else return False\n",
    "        return False\n",
    "year = int(input(\"Enter your year:\")) ##this line is used to take input from user\n",
    "\n",
    "if leap_year(year): ##check if year is leap year or not if yes then print(\"year is leap year\")\n",
    "    print(f\"{year} is leap year\")\n",
    "else: ##else this year is not leap year \n",
    "    print(f\"{year} is not leap year\")"
   ]
  },
  {
   "cell_type": "code",
   "execution_count": 17,
   "id": "a874317e-21d3-4342-bd45-4d299fb18f60",
   "metadata": {},
   "outputs": [
    {
     "ename": "AssertionError",
     "evalue": "",
     "output_type": "error",
     "traceback": [
      "\u001b[0;31m---------------------------------------------------------------------------\u001b[0m",
      "\u001b[0;31mAssertionError\u001b[0m                            Traceback (most recent call last)",
      "Cell \u001b[0;32mIn[17], line 12\u001b[0m\n\u001b[1;32m      9\u001b[0m numerator \u001b[38;5;241m=\u001b[39m \u001b[38;5;241m10\u001b[39m\n\u001b[1;32m     10\u001b[0m denominator \u001b[38;5;241m=\u001b[39m \u001b[38;5;241m0\u001b[39m\n\u001b[0;32m---> 12\u001b[0m result \u001b[38;5;241m=\u001b[39m \u001b[43mdivide\u001b[49m\u001b[43m(\u001b[49m\u001b[43mnumerator\u001b[49m\u001b[43m,\u001b[49m\u001b[43m \u001b[49m\u001b[43mdenominator\u001b[49m\u001b[43m)\u001b[49m\n\u001b[1;32m     14\u001b[0m \u001b[38;5;28mprint\u001b[39m(\u001b[38;5;124m\"\u001b[39m\u001b[38;5;124mResult:\u001b[39m\u001b[38;5;124m\"\u001b[39m, result)\n",
      "Cell \u001b[0;32mIn[17], line 5\u001b[0m, in \u001b[0;36mdivide\u001b[0;34m(a, b)\u001b[0m\n\u001b[1;32m      4\u001b[0m \u001b[38;5;28;01mdef\u001b[39;00m \u001b[38;5;21mdivide\u001b[39m(a, b):\n\u001b[0;32m----> 5\u001b[0m     \u001b[38;5;28;01massert\u001b[39;00m b \u001b[38;5;241m!=\u001b[39m \u001b[38;5;241m0\u001b[39m \u001b[38;5;66;03m#\"Division by zero is not allowed\"\u001b[39;00m\n\u001b[1;32m      6\u001b[0m     \u001b[38;5;66;03m# the assert statement checks whether the denominator is not equal to zero.\u001b[39;00m\n\u001b[1;32m      7\u001b[0m     \u001b[38;5;28;01mreturn\u001b[39;00m a \u001b[38;5;241m/\u001b[39m b\n",
      "\u001b[0;31mAssertionError\u001b[0m: "
     ]
    }
   ],
   "source": [
    "# the assert statement is used to add debugging checks within your code. \n",
    "# It allows you to test a condition, and if the condition is False, it raises an AssertionError \n",
    "# which can help you identify and debug issues in your code. assert statements are typically used during development and testing to catch unexpected behavior early.\n",
    "def divide(a, b):\n",
    "    assert b != 0 #\"Division by zero is not allowed\"\n",
    "    # the assert statement checks whether the denominator is not equal to zero.\n",
    "    return a / b\n",
    "\n",
    "numerator = 10\n",
    "denominator = 0\n",
    "\n",
    "result = divide(numerator, denominator)\n",
    "\n",
    "print(\"Result:\", result)"
   ]
  },
  {
   "cell_type": "code",
   "execution_count": 22,
   "id": "bb1aa70d-1481-4083-be9b-4c18ce21689a",
   "metadata": {},
   "outputs": [
    {
     "name": "stdin",
     "output_type": "stream",
     "text": [
      "Enter your age: 64\n"
     ]
    },
    {
     "name": "stdout",
     "output_type": "stream",
     "text": [
      "this person is eligible for sniour citizen discount\n"
     ]
    }
   ],
   "source": [
    "#Create a Python program that determines the eligibility of a person for a senior citizen discount based on age using if-else.\n",
    "age = int(input(\"Enter your age:\")) ##this line is used to take input from the user\n",
    "if(age>=60): ##if age is greater then and equal to 60 then print(\"this person is eligible for sniour citizen discount\")\n",
    "    print(\"this person is eligible for sniour citizen discount\")\n",
    "else: #else print(\"this person is eligible for sniour citizen discount\")print(\"this person is not eligible for sniour citizen discount\")\n",
    "    print(\"this person is not eligible for sniour citizen discount\")"
   ]
  },
  {
   "cell_type": "code",
   "execution_count": 25,
   "id": "70bd9dba-b534-4c13-9ef9-0b8ed71aaf0f",
   "metadata": {},
   "outputs": [
    {
     "name": "stdin",
     "output_type": "stream",
     "text": [
      "Enter your charcter for check: 9\n"
     ]
    },
    {
     "name": "stdout",
     "output_type": "stream",
     "text": [
      "This character is nor Upper case neither lower case\n"
     ]
    }
   ],
   "source": [
    "# Write a Python program to categorize a given character as uppercase, lowercase, or neither using if-else.\n",
    "ch = input(\"Enter your charcter for check:\") ##take input from user\n",
    "if(ch.isupper()): ##if check if ch is upper using isupper if it return true then print(\"it is in upper case\")\n",
    "    print(\"this charter is in Upper case\")\n",
    "elif(ch.islower()):  ##if check if ch is lower using islower if it return true then print(\"it is in lower case\")\n",
    "    print(\"This character is in lower case\")\n",
    "else: ##if this string is nor upper or not lower then it not a string\n",
    "    print(\"This character is nor Upper case neither lower case\")"
   ]
  },
  {
   "cell_type": "code",
   "execution_count": 30,
   "id": "7507d809-ce34-48ff-be50-01aeb4e26498",
   "metadata": {},
   "outputs": [
    {
     "name": "stdin",
     "output_type": "stream",
     "text": [
      "Enter your a,b,c in ',' separated manner: 23,45,67\n"
     ]
    },
    {
     "name": "stdout",
     "output_type": "stream",
     "text": [
      "answer is : roots are imaginary\n"
     ]
    }
   ],
   "source": [
    "# Write a Python program to determine the roots of a quadratic equation using if-else.\n",
    "def roots(a,b,c):\n",
    "    D = (b**2)-4*a*c\n",
    "    if(D>0):\n",
    "        r1 = (-b+(D**0.5))/2*a\n",
    "        r2 = (-b-(D**0.5))/2*a\n",
    "        return r1,r2\n",
    "    elif(D==0):\n",
    "        r1=r2= -b/(2*a)\n",
    "        return r1,r2\n",
    "    else:\n",
    "        return \"roots are imaginary\"\n",
    "    \n",
    "a,b,c = map(float,input(\"Enter your a,b,c in ',' separated manner:\").split(\",\"))\n",
    "print(\"answer is :\",roots(a,b,c))"
   ]
  },
  {
   "cell_type": "code",
   "execution_count": 33,
   "id": "cd84575c-a56c-4800-b279-229e02d155f3",
   "metadata": {},
   "outputs": [
    {
     "name": "stdin",
     "output_type": "stream",
     "text": [
      "Ente your Year: 2022\n"
     ]
    },
    {
     "name": "stdout",
     "output_type": "stream",
     "text": [
      "This year not a century year\n"
     ]
    }
   ],
   "source": [
    "#Create a Python program that checks if a given year is a century year or not using if-else.\n",
    "year = int(input(\"Ente your Year:\")) ##take input from user \n",
    "if(year%100==0): ##check year is fully divisible by 100  \n",
    "    print(\"This year is century year\") ##this year is century year\n",
    "else: \n",
    "    print(\"This year not a century year\") ##else this year is not a leap year"
   ]
  },
  {
   "cell_type": "code",
   "execution_count": 38,
   "id": "09b257b7-e1e2-46e4-92a7-2939d2e4e2a0",
   "metadata": {},
   "outputs": [
    {
     "name": "stdin",
     "output_type": "stream",
     "text": [
      "Enter your number: 625\n"
     ]
    },
    {
     "name": "stdout",
     "output_type": "stream",
     "text": [
      "625 is a perfect square\n"
     ]
    }
   ],
   "source": [
    "# Write a Python program to determine if a given number is a perfect square using if-else.\n",
    "def perfect_square(n):\n",
    "    ans = n**0.5\n",
    "    return ans\n",
    "n = int(input(\"Enter your number:\"))\n",
    "if(perfect_square(n).is_integer()):\n",
    "    print(f\"{n} is a perfect square\")\n",
    "else:\n",
    "    print(f\"{n} is not a perfect square\")"
   ]
  },
  {
   "cell_type": "code",
   "execution_count": 41,
   "id": "8cb6a8cf-9e05-4a10-a790-e3381f03978e",
   "metadata": {},
   "outputs": [
    {
     "name": "stdout",
     "output_type": "stream",
     "text": [
      "98 is found\n",
      "2 4 6 98 "
     ]
    }
   ],
   "source": [
    "# Explain the purpose of the \"continue\" and \"break\" statements within if-else loops.\n",
    "##break statement is used to forcrfully break the loop and comeout of the loop\n",
    "numbers = [1,2,3,4,5,6,98]\n",
    "search = 98\n",
    "found = False\n",
    "for i in numbers:\n",
    "    if(i==search):\n",
    "        found = True\n",
    "        break ##here we can see if search is found then their no any requirement of further check\n",
    "if(found):\n",
    "    print(f\"{search} is found\")\n",
    "else:\n",
    "    print(f\"{search} is not found\")\n",
    "##continue statement is used to skip this iteartion and continue run other itertions\n",
    "##skip odd numbers\n",
    "for i in numbers:\n",
    "    if(i%2!=0):\n",
    "        continue ##here we can see if i is not divisible by so this number is odd then we skip this number using continue\n",
    "    print(i,end =\" \")"
   ]
  },
  {
   "cell_type": "code",
   "execution_count": 43,
   "id": "05259f74-e02e-4348-8581-e598ee219079",
   "metadata": {},
   "outputs": [
    {
     "name": "stdin",
     "output_type": "stream",
     "text": [
      "ENter your weight: 23\n",
      "Enter your height: 34\n"
     ]
    },
    {
     "name": "stdout",
     "output_type": "stream",
     "text": [
      "0.0005851821697537146\n"
     ]
    },
    {
     "data": {
      "text/plain": [
       "'Underweight: You may need to gain some weight. Consult a healthcare professional.'"
      ]
     },
     "execution_count": 43,
     "metadata": {},
     "output_type": "execute_result"
    }
   ],
   "source": [
    "#Create a Python program that calculates the BMI (Body Mass Index) of a person based on their weight and height using if-else.\n",
    "def health_recomendation(bmi): \n",
    "    if(bmi<18.5): #if bmi is less then 18.4 then this is under weight\n",
    "        return \"Underweight: You may need to gain some weight. Consult a healthcare professional.\"\n",
    "    elif(18.5<= bmi and bmi < 24.9): #if bmi is less then 24.9 and greater than 18.4 then this person is normal weight\n",
    "        return \"Normal weight: Your weight is within the healthy range.\"\n",
    "    elif(24.4<= bmi and bmi < 29.9): #if bmi is less then 29.9 and greater than 24.4 then this person is over weight\n",
    "        return \"Overweight: Consider losing some weight for better health. Consult a healthcare professional.\"\n",
    "    else: ##\n",
    "        return \"Obese: It's important to manage your weight for better health. Consult a healthcare professional.\"\n",
    "def BMI(weight_kg,height_m):\n",
    "    return (weight_kg/(height_m**3)) ##this line is return BMI with use of BMI calculation\n",
    "weight = float(input(\"ENter your weight:\")) ##take weight from user\n",
    "height = float(input(\"Enter your height:\"))##take height from user\n",
    "print(BMI(weight,height)) ##call this BMI function and display this calculated BMI \n",
    "health_recomendation(BMI(weight,height))"
   ]
  },
  {
   "cell_type": "code",
   "execution_count": null,
   "id": "5fb86891-28ed-4eca-bb1a-ab5e7e264f84",
   "metadata": {},
   "outputs": [],
   "source": [
    "# How can you use the \"filter()\" function with if-else statements to filter elements from a list?\n",
    "\n",
    "\n",
    "\n"
   ]
  },
  {
   "cell_type": "code",
   "execution_count": null,
   "id": "bcdee706-fa9b-424e-abc7-e3656574ef66",
   "metadata": {},
   "outputs": [],
   "source": [
    "# Write a Python program to determine if a given number is prime or not using if-else.\n",
    "def prime_check(n): ##\n",
    "    if(n<=1):\n",
    "        return False\n",
    "    else:\n",
    "        for i in range(2,int(n**0.5)+1):\n",
    "            if(n%i==0):\n",
    "                return False\n",
    "        return True\n",
    "\n",
    "n = int(input(\"Enter :\"))\n",
    "if(prime_check(n)):\n",
    "    print(\"It is a prime number\")\n",
    "else:\n",
    "    print(\"It is not a prime number\")\n",
    "\n",
    "\n",
    "\n",
    "\n",
    "\n"
   ]
  },
  {
   "cell_type": "code",
   "execution_count": 1,
   "id": "63d8288f-7809-4978-897b-4b8b840947f4",
   "metadata": {},
   "outputs": [],
   "source": [
    "#Map :-"
   ]
  },
  {
   "cell_type": "code",
   "execution_count": 3,
   "id": "8658a90d-2a02-43f1-a6f9-e95ff7fa491b",
   "metadata": {},
   "outputs": [
    {
     "name": "stdout",
     "output_type": "stream",
     "text": [
      "[2, 4, 6, 8, 10]\n",
      "[5, 7, 9]\n"
     ]
    }
   ],
   "source": [
    "#Explain the purpose of the `map()` function in Python and provide an example of how it can be used to apply a function to each element of an iterable.\n",
    "##map() functon is built in function .that allow you to apply a function to each item in an iterable such as a list,tuple,or other iterable and return an iterater\n",
    "\n",
    "##this iterater contains results of applying the specified function to each item in the original iterable \n",
    "\n",
    "# syntax:\n",
    "# map(function,iterable,..)\n",
    "# Define a function to double a number\n",
    "def double(x):\n",
    "    return x * 2\n",
    "\n",
    "# Create a list of numbers\n",
    "numbers = [1, 2, 3, 4, 5]\n",
    "\n",
    "# Use the map() function to double each number in the list\n",
    "result = map(double, numbers)\n",
    "\n",
    "# Convert the result into a list (or another iterable) to see the output\n",
    "doubled_numbers = list(result)\n",
    "\n",
    "print(doubled_numbers)\n",
    "\n",
    "##You can also use map() with multiple iterables, in which case the specified function should accept as many arguments as there are iterables. Here's an example:\n",
    "# Define a function to add two numbers\n",
    "def add(x, y):\n",
    "    return x + y\n",
    "\n",
    "# Create two lists of numbers\n",
    "list1 = [1, 2, 3]\n",
    "list2 = [4, 5, 6]\n",
    "\n",
    "# Use map() with multiple iterables to add corresponding elements\n",
    "result = map(add, list1, list2)\n",
    "\n",
    "# Convert the result into a list to see the output\n",
    "sums = list(result)\n",
    "\n",
    "print(sums)\n",
    "\n"
   ]
  },
  {
   "cell_type": "code",
   "execution_count": 6,
   "id": "bfcb6e91-7741-4091-a2e7-b1244ea4640b",
   "metadata": {},
   "outputs": [
    {
     "name": "stdout",
     "output_type": "stream",
     "text": [
      "[1, 4, 9, 25, 36, 49]\n"
     ]
    }
   ],
   "source": [
    "l1 = [1,2,3,5,6,7] ##this is  smple list for square\n",
    "ans = list(map( lambda x:x**2,l1)) ##in this we use map function .\n",
    "                                   ##in this we use lambda function for square which takes each element of the list and return square of a number\n",
    "                                    ##this return value is stored in ans and this answer in list \n",
    "        \n",
    "print(ans) ##disply answer"
   ]
  },
  {
   "cell_type": "code",
   "execution_count": null,
   "id": "53050f8a-89e1-4832-865b-47b15bd27c42",
   "metadata": {},
   "outputs": [],
   "source": [
    "# How does the `map()` function differ from a list comprehension in Python, and when would you choose one over the other?\n",
    "# the map function and list comprehension in python are both used for similar purpose :to\n",
    "# process iterable data and pply a function to each element of the iterable\n",
    "# however,they have some difference in terms of sytax,usage, and readability and choice between thwm often\n",
    "# depends on your specific needs and coding style .here's how they differ and when you might choose one ovwe the other\n"
   ]
  },
  {
   "cell_type": "code",
   "execution_count": 7,
   "id": "1214c2b5-d0db-46eb-8380-f4add9c21b62",
   "metadata": {},
   "outputs": [
    {
     "name": "stdout",
     "output_type": "stream",
     "text": [
      "['RAHUL', 'ROHIT', 'RAM', 'RITA']\n"
     ]
    }
   ],
   "source": [
    "# Create a Python program that uses the `map()` function to convert a list of names to uppercase.\n",
    "l1 = ['rahul','rohit','ram','rita'] #this is a sample list for upper case operation\n",
    "ans = list(map(lambda x:x.upper(),l1)) ##in this line we use map function in map function we use a lambda function\n",
    "                                    ## for return upper case and lq is passed for upper case operation operation \n",
    "print(ans) ##this line is used to print resulted list"
   ]
  },
  {
   "cell_type": "code",
   "execution_count": 9,
   "id": "a166b99e-fc79-448b-8b5f-9ac8a4b52f74",
   "metadata": {},
   "outputs": [
    {
     "name": "stdout",
     "output_type": "stream",
     "text": [
      "[5, 5, 3, 4]\n"
     ]
    }
   ],
   "source": [
    "# Write a Python program that uses the `map()` function to calculate the length of each word in a list of strings.\n",
    "l1 = ['rahul','rohit','ram','rita'] #this is a sample list for upper case operation\n",
    "ans = list(map(lambda x:len(x),l1)) ##in this line we use map function in map function we use a lambda function\n",
    "                                    ## for return len() of the element and l1 is take length \n",
    "print(ans) ##this line is used to print resulted list"
   ]
  },
  {
   "cell_type": "code",
   "execution_count": 1,
   "id": "11ed54de-8672-443b-8d6f-66c4860bce62",
   "metadata": {},
   "outputs": [
    {
     "name": "stdout",
     "output_type": "stream",
     "text": [
      "[5, 7, 9]\n"
     ]
    }
   ],
   "source": [
    "# How can you use the `map()` function to apply a custom function to elements of multiple lists simultaneously in Python?\n",
    "##You can also use map() with multiple iterables, in which case the specified function should accept as many arguments as there are iterables. Here's an example:\n",
    "# Define a function to add two numbers\n",
    "def add(x, y):\n",
    "    return x + y\n",
    "\n",
    "# Create two lists of numbers\n",
    "list1 = [1, 2, 3]\n",
    "list2 = [4, 5, 6]\n",
    "\n",
    "# Use map() with multiple iterables to add corresponding elements\n",
    "result = map(add, list1, list2)\n",
    "\n",
    "# Convert the result into a list to see the output\n",
    "sums = list(result)\n",
    "\n",
    "print(sums)\n",
    "\n"
   ]
  },
  {
   "cell_type": "code",
   "execution_count": 2,
   "id": "b57d2bd8-2446-4f88-9752-325022478d83",
   "metadata": {},
   "outputs": [
    {
     "name": "stdout",
     "output_type": "stream",
     "text": [
      "[53.6, 113.0, 153.96800000000002, 114.40400000000001, 74.408]\n"
     ]
    }
   ],
   "source": [
    "# Create a Python program that uses `map()` to convert a list of temperatures from Celsius to Fahrenheit.\n",
    "l1 = [12,45,67.76,45.78,23.56] ##this list is sample list\n",
    "f = map(lambda x:(x*(9/5))+32,l1)  ##in this line we use map function in map function we use a lambda function\n",
    "                                    ## for return fahrenhieght of the element and pass l1 for feherenheight operation \n",
    "                                    ## in lambda function we use formula of fehrenheight\n",
    "print(list(f)) ##this line is used to display "
   ]
  },
  {
   "cell_type": "code",
   "execution_count": 10,
   "id": "88a63ae4-5e7f-458a-99e9-7b8b4ef20392",
   "metadata": {},
   "outputs": [
    {
     "data": {
      "text/plain": [
       "[12, 57, 33, 89, 24]"
      ]
     },
     "execution_count": 10,
     "metadata": {},
     "output_type": "execute_result"
    }
   ],
   "source": [
    "# Write a Python program that uses the `map()` function to round each element of a list of floating-point numbers to the nearest integer.\n",
    "\n",
    "l1 = [12.45,56.78,32.76,89.43,23.89]\n",
    "ans = list(map(lambda x:round(x),l1)) ##in this line we use map function in map function we use a lambda function\n",
    "                                    ## for return round of the element and pass l1 for round operation \n",
    "ans ##display round of the element"
   ]
  },
  {
   "cell_type": "markdown",
   "id": "85cd9203-d783-4dd5-a447-3c2daa1ff13f",
   "metadata": {},
   "source": [
    "Reduce :-"
   ]
  },
  {
   "cell_type": "code",
   "execution_count": 12,
   "id": "0b2790ba-d7d8-4363-9232-eff716f819a3",
   "metadata": {},
   "outputs": [
    {
     "name": "stdout",
     "output_type": "stream",
     "text": [
      "120\n"
     ]
    }
   ],
   "source": [
    "# What is the `reduce()` function in Python, and what module should you import to use it? Provide an example of its basic usage.\n",
    "#the reduce() function is a built-in function that i part of the 'functools' module.\n",
    "# it is used for aggregating or reducing a sequence of elements to a single accumulated result by successively applying a specified function to the elements in the sequenc\n",
    "# In other words, it \"reduces\" a sequence of values to a single value.\n",
    "\n",
    "# syntax:\n",
    "    # functool.reduce(function,iterble[, initializer])\n",
    "from functools import reduce\n",
    "\n",
    "# Define a function to multiply two numbers\n",
    "def multiply(x, y):\n",
    "    return x * y\n",
    "\n",
    "# List of numbers\n",
    "numbers = [1, 2, 3, 4, 5]\n",
    "\n",
    "# Use reduce() to calculate the product of all numbers\n",
    "product = reduce(multiply, numbers)\n",
    "\n",
    "print(product)\n",
    "\n",
    "\n",
    "# reduce work like\n",
    "# product = (((1 * 2) * 3) * 4) * 5\n",
    "\n",
    "#if you don't provide an initializer, reduce() starts by applying the function to the first two elements of the iterable and uses the result as the initial accumulator value,\n"
   ]
  },
  {
   "cell_type": "code",
   "execution_count": 14,
   "id": "c1538987-54df-472d-91ae-13c57923209c",
   "metadata": {},
   "outputs": [
    {
     "name": "stdout",
     "output_type": "stream",
     "text": [
      "24239439544320\n"
     ]
    }
   ],
   "source": [
    "# Write a Python program that uses the `reduce()` function to find the product of all elements in a list.\n",
    "from functools import reduce\n",
    "\n",
    "# Define a function to multiply two numbers\n",
    "def multiply(x, y):\n",
    "    return x * y\n",
    "\n",
    "# List of numbers\n",
    "numbers = [34,56,78,90,23,56,32,44]\n",
    "\n",
    "# Use reduce() to calculate the product of all numbers\n",
    "product = reduce(multiply, numbers)\n",
    "\n",
    "print(product)"
   ]
  },
  {
   "cell_type": "code",
   "execution_count": 17,
   "id": "a940dbba-2af4-41bb-8b74-6d7b9ca24141",
   "metadata": {},
   "outputs": [
    {
     "name": "stdout",
     "output_type": "stream",
     "text": [
      "90\n"
     ]
    }
   ],
   "source": [
    "# Create a Python program that uses `reduce()` to find the maximum element in a list of numbers.\n",
    "from functools import reduce\n",
    "# Define a function to find maximum between two numbers\n",
    "def maximum(n1,n2):\n",
    "    if(n1<n2):\n",
    "        return n2\n",
    "    else:\n",
    "        return n1\n",
    "# List of numbers\n",
    "l1 = [12,34,56,78,89,90]\n",
    "# Use reduce() to find maximum from all numbers\n",
    "maximum1=reduce(maximum,l1)\n",
    "print(maximum1)"
   ]
  },
  {
   "cell_type": "code",
   "execution_count": 18,
   "id": "1487f1cc-0e33-4cae-af3a-af0a8cabb0e7",
   "metadata": {},
   "outputs": [
    {
     "data": {
      "text/plain": [
       "'mohit'"
      ]
     },
     "execution_count": 18,
     "metadata": {},
     "output_type": "execute_result"
    }
   ],
   "source": [
    "# How can you use the `reduce()` function to concatenate a list of strings into a single string?\n",
    "##cancatinate ll list elemenr in one string is posible using reduce function \n",
    "# step:1 import reduce function\n",
    "from functools import reduce\n",
    "# step:2 write a function for concatinate two string\n",
    "def concatinate(a,b):\n",
    "    return a+b\n",
    "# step:3 define a list of string\n",
    "l1 = ['m','o','h','i','t']\n",
    "# step:4 in reduce function call concatinate function and define list\n",
    "ans = reduce(concatinate,l1)\n",
    "ans ##after all operation reult will be display"
   ]
  },
  {
   "cell_type": "code",
   "execution_count": 8,
   "id": "c637ce36-abca-496a-b902-678147650ef5",
   "metadata": {},
   "outputs": [
    {
     "name": "stdin",
     "output_type": "stream",
     "text": [
      "Enter your Number: 4\n"
     ]
    },
    {
     "name": "stdout",
     "output_type": "stream",
     "text": [
      "your factorial is 24\n"
     ]
    }
   ],
   "source": [
    "# Write a Python program that calculates the factorial of a number using the `reduce()` function.\n",
    "from functools import reduce ##import reduce function from functools\n",
    "def fact(n1,n2): ##fact function is return multiply two numbers\n",
    "    return n1*n2 \n",
    "n = int(input(\"Enter your Number:\")) ##this line is used to take input from user\n",
    "if(n<0): ##if n is less then 0 then \n",
    "        result = 0 ##result = 0\n",
    "elif(n==0 or n==1): #if n==0 or n==1\n",
    "    result = 1 ##then result = 1\n",
    "else: ##else \n",
    "    number = list(range(1,n+1)) #this line is used to generate list between 1 to n+1\n",
    "    result = reduce(fact,number) #and store in result variable ,result calculated using reduce function\n",
    "print(f\"your factorial is {result}\") ##this line is used to display result\n",
    "\n",
    "    "
   ]
  },
  {
   "cell_type": "code",
   "execution_count": 18,
   "id": "bc0dc369-2567-47cf-8662-248d49e12e03",
   "metadata": {},
   "outputs": [
    {
     "name": "stdin",
     "output_type": "stream",
     "text": [
      "ENter two number in (,) separated manner: 6,12\n"
     ]
    },
    {
     "name": "stdout",
     "output_type": "stream",
     "text": [
      "Your GCD code of 6 and 12 is 6\n"
     ]
    }
   ],
   "source": [
    "# # Create a Python program that uses `reduce()` to find the GCD (Greatest Common Divisor) of a list of numbers.\n",
    "from functools import reduce ####import reduce function from functools\n",
    "def GCD(a,b): ##this function is used to return GCD of a and b\n",
    "    if(b==0): ##if b==0 then return a's value\n",
    "        return a\n",
    "    else: ##else return GCD(b,a%b) It is a recursion return \n",
    "        return GCD(b,a%b)\n",
    "##this line is used to take input from user using map function \n",
    "a,b = map(int,input(\"ENter two number in (,) separated manner:\").split(\",\"))\n",
    "r = reduce(GCD,(a,b)) ##this line is use to calculate GCD of two number using reduce function\n",
    "print(f\"Your GCD code of {a} and {b} is {r}\") ##this line is used to display GCD"
   ]
  },
  {
   "cell_type": "code",
   "execution_count": 1,
   "id": "09c0e828-b9be-44a9-b641-68dc50c9309a",
   "metadata": {},
   "outputs": [
    {
     "name": "stdin",
     "output_type": "stream",
     "text": [
      "Enter your value: 234\n"
     ]
    },
    {
     "name": "stdout",
     "output_type": "stream",
     "text": [
      "This is your digit sum 9 of 234\n"
     ]
    }
   ],
   "source": [
    "# Write a Python program that uses the `reduce()` function to find the sum of the digits of a given number.\n",
    "from functools import reduce  ####import reduce function from functools\n",
    "def add(a,b): ##this function is used to add two numbers\n",
    "    return a+b ##it return a+b\n",
    "n = int(input(\"Enter your value:\")) ##it take value from the user \n",
    "l1 = [int(i) for i in str(n)] #using list comprehension we generate list of digits\n",
    "ans = reduce(add,l1) ##this line is used to add digits using reduce function \n",
    "print(f\"This is your digit sum {ans} of {n}\") ##this line is used to display ans \n",
    "    \n",
    "    "
   ]
  },
  {
   "cell_type": "markdown",
   "id": "c23056ce-dafb-4d8e-a0a6-d557698d5a4d",
   "metadata": {},
   "source": [
    "Filter :-"
   ]
  },
  {
   "cell_type": "code",
   "execution_count": 5,
   "id": "e9724899-ce74-42e8-94bf-cd1f6092c390",
   "metadata": {},
   "outputs": [
    {
     "name": "stdout",
     "output_type": "stream",
     "text": [
      "your list of odd number is [1, 3, 5, 7, 9]\n"
     ]
    }
   ],
   "source": [
    "# Explain the purpose of the `filter()` function in Python and provide an example of how it can be used to filter elements from an iterable.\n",
    "# the filter() function in python is used to filter element from an iterable(e.g.,, a list,tuple, or any other itearble) based on a given condition or a filtering function\n",
    "# it creates new iterable(usually a filter object) that contains only the elements for which is 'True'.\n",
    " # syntax is\n",
    "    # filter(function,iterable)\n",
    "# Define a function to check if a number is odd \n",
    "def is_even(number):\n",
    "    return number%2!=0\n",
    "\n",
    "# Create a list of numbers\n",
    "numbers = [1,2,3,4,5,6,6,7,8,9,10]\n",
    "\n",
    "# Use filter() to filter odd numbers from the list\n",
    "odd_number = list(filter(is_even,numbers))\n",
    "\n",
    "# Print the filtered result\n",
    "print(f\"your list of odd number is {odd_number}\")\n",
    "    "
   ]
  },
  {
   "cell_type": "code",
   "execution_count": null,
   "id": "8dca3ca5-3c3f-402c-8f4a-96bfcf8e2f4b",
   "metadata": {},
   "outputs": [],
   "source": [
    "# Write a Python program that uses the `filter()` function to select even numbers from a list of integers.\n",
    "# Define a function to check if a number is even \n",
    "def is_even(number):\n",
    "    return number%2==0\n",
    "\n",
    "# Create a list of numbers\n",
    "numbers = [1,2,3,4,5,6,6,7,8,9,10]\n",
    "\n",
    "# Use filter() to filter even numbers from the list\n",
    "even_number = list(filter(is_even,numbers))\n",
    "\n",
    "# Print the filtered result\n",
    "print(f\"your list of even number is {even_number}\")"
   ]
  },
  {
   "cell_type": "code",
   "execution_count": 7,
   "id": "68feb2d5-ce69-46c3-bdcd-7f9d3341d9bd",
   "metadata": {},
   "outputs": [
    {
     "name": "stdout",
     "output_type": "stream",
     "text": [
      "your filtered list is :['ram', 'radhika', 'ramesh', 'rajesh', 'ritesh', 'rahul']\n"
     ]
    }
   ],
   "source": [
    "# Create a Python program that uses the `filter()` function to select names that start with a specific letter from a list of strings.\n",
    "def specific_charcter(l1): ##this function is used to check this number is start from some specific number or not\n",
    "    return (l1[0]=='r') or(l1[0]=='R') ##if list of oth index is start from r or R then return True\n",
    "l1 = ['kamlesh','ram','radhika','ramesh','rajesh','golu','ritesh','rahul','muskan'] ##this is sample listfor operation\n",
    "specific = list(filter(specific_charcter,l1)) ##in this line using filter function we filter list of string which is start with specific charcter \n",
    "                                            ## in this we pass two things first is function and second one is sample list\n",
    "print(f\"your filtered list is :{specific}\") ##this line is used to print resultant list"
   ]
  },
  {
   "cell_type": "code",
   "execution_count": 8,
   "id": "8d319c74-49ac-4d97-bbbc-60cccb576c79",
   "metadata": {},
   "outputs": [
    {
     "data": {
      "text/plain": [
       "[2, 3, 5, 67, 7, 89, 71]"
      ]
     },
     "execution_count": 8,
     "metadata": {},
     "output_type": "execute_result"
    }
   ],
   "source": [
    "def prime_check(n): ##this function is used to check a number is prime or not \n",
    "    for i in range(2,n): ##if this number is divided by any number then return false\n",
    "                         ## if this number is not divisible by any number then this return true\n",
    "            if(n%i==0): \n",
    "                return 0\n",
    "    return 1\n",
    "\n",
    "l1 = [2,3,4,15,5,6,67,7,89,9,71] ##This is a sample list \n",
    "prime = list(filter(prime_check,l1)) ##this is filter function which is used to cluster prime number\n",
    "prime"
   ]
  },
  {
   "cell_type": "code",
   "execution_count": 11,
   "id": "e2d6099d-dbd4-42a5-ac16-05d0945608fc",
   "metadata": {},
   "outputs": [
    {
     "name": "stdout",
     "output_type": "stream",
     "text": [
      "[23, 45, 67, 34, 56, 89]\n"
     ]
    }
   ],
   "source": [
    "# How can you use the `filter()` function to remove None values from a list in Python?\n",
    "##create a list with none values\n",
    "li = [23,45,67,None,None,None,34,56,None,89,None]\n",
    "\n",
    "# Use filter() to remove None values from the list\n",
    "filered_value = list(filter(lambda x:x is not None,li))\n",
    "\n",
    "\n",
    "# Print the filtered list\n",
    "print(filered_value)\n",
    "\n",
    "\n"
   ]
  },
  {
   "cell_type": "code",
   "execution_count": 28,
   "id": "699fc276-87c4-4fd1-88fb-f583e11f11ba",
   "metadata": {},
   "outputs": [
    {
     "data": {
      "text/plain": [
       "['ram', 'ramesh', 'rajesh', 'golu', 'ritesh', 'rahul', 'muskan']"
      ]
     },
     "execution_count": 28,
     "metadata": {},
     "output_type": "execute_result"
    }
   ],
   "source": [
    "lk = ['kamlesh','ram','radhika','ramesh','rajesh','golu','ritesh','rahul','muskan'] ##this is sample listfor operation\n",
    "ans = list(filter(lambda x: len(x)<=6,lk)) ##this line is work if len(l1[i]) is geater than 6 then it will be store in ans \n",
    "ans ##this line is used to store ans"
   ]
  },
  {
   "cell_type": "code",
   "execution_count": 44,
   "id": "97dcf753-b2ea-4cd7-8025-110e56464bda",
   "metadata": {},
   "outputs": [
    {
     "data": {
      "text/plain": [
       "[2, 3, 4, 89, 56, 45, 34, 23, 45, 34, 56, 67]"
      ]
     },
     "execution_count": 44,
     "metadata": {},
     "output_type": "execute_result"
    }
   ],
   "source": [
    "# Write a Python program that uses the `filter()` function to select elements greater than a specified threshold from a list of values.\n",
    "lst = [2,3,4,6678,89,56,45,34,23,35578,45,34,56,67] \n",
    "ans = list(filter(lambda x: x<=678,lst))\n",
    "ans"
   ]
  },
  {
   "cell_type": "markdown",
   "id": "15acc637-baf4-463a-bb8e-fef0f2602eb5",
   "metadata": {},
   "source": [
    "Recursion:-"
   ]
  },
  {
   "cell_type": "code",
   "execution_count": 3,
   "id": "d0f6bf9d-5b79-469d-8a9b-3a81970f2132",
   "metadata": {},
   "outputs": [
    {
     "name": "stdin",
     "output_type": "stream",
     "text": [
      "Enter your number for factorial: 65\n"
     ]
    },
    {
     "name": "stdout",
     "output_type": "stream",
     "text": [
      "8247650592082470666723170306785496252186258551345437492922123134388955774976000000000000000  This factorial using Iteartion\n",
      "8247650592082470666723170306785496252186258551345437492922123134388955774976000000000000000 This factorial using recursion\n"
     ]
    }
   ],
   "source": [
    "# Explain the concept of recursion in Python. How does it differ from iteration?\n",
    "# Recursion is different from itearation\n",
    "# in Ieration we use a loop(for,while) for solving a problem, this using a formula and calculate a problem it\n",
    "##it takes less time as compare to recursion\n",
    "##this program is calculate factorial using iteration method\n",
    "n = int(input(\"Enter your number for factorial:\"))\n",
    "fact = 1\n",
    "for i in range(1,n+1):\n",
    "    fact = fact * i\n",
    "print(fact,\" This factorial using Iteartion\")\n",
    "#in recursion we use a function and this function call it self again and again till do not meet base its base condition\n",
    "##it takes more time as compare to iteration as its call it self \n",
    "##this program is calculate factorial using recursion method\n",
    "def factorial(n): ##this function is use to calculate factorial \n",
    "    if(n==0 or n==1): ##if n==0 or n==1 then return 1 \n",
    "        return 1\n",
    "    else: ##else return n * factorial(n-1) (or we can say call it self again and again)\n",
    "        return n * factorial(n-1) #(lets take an example eg:.first call for 3, 3 * factorial(2) then 2 * factorial(1)  if n==1 then return 1 and 1*2*3 = 6 is a answer)\n",
    "print(factorial(n),\"This factorial using recursion\") "
   ]
  },
  {
   "cell_type": "code",
   "execution_count": null,
   "id": "8c3c1069-ce89-4e3c-9614-31993ac5571b",
   "metadata": {},
   "outputs": [],
   "source": [
    "# Write a Python program to calculate the factorial of a number using recursion.\n",
    "def factorial(n): ##this function is use to calculate factorial \n",
    "    if(n==0 or n==1): ##if n==0 or n==1 then return 1 \n",
    "        return 1\n",
    "    else: ##else return n * factorial(n-1) (or we can say call it self again and again)\n",
    "        return n * factorial(n-1) #(lets take an example eg:.first call for 3, 3 * factorial(2) then 2 * factorial(1)  if n==1 then return 1 and 1*2*3 = 6 is a answer)\n",
    "print(factorial(n),\"This factorial using recursion\") "
   ]
  },
  {
   "cell_type": "code",
   "execution_count": 9,
   "id": "612ac87c-9254-4b58-acc4-a10648c4b0dc",
   "metadata": {},
   "outputs": [
    {
     "name": "stdin",
     "output_type": "stream",
     "text": [
      "Enter your number: 34\n"
     ]
    },
    {
     "name": "stdout",
     "output_type": "stream",
     "text": [
      "your fibonacci number of 34 is 5702887\n"
     ]
    }
   ],
   "source": [
    "# Create a recursive Python function to find the nth Fibonacci number.\n",
    "def fib(n): ##this function is used to return fibonacci number on a perticular nth term\n",
    "    if(n==0): #if n is equal to 0 then return 0\n",
    "        return 0\n",
    "    elif(n==1): #elif n is equal to one then return one \n",
    "        return 1\n",
    "    else: #else use recursion technique and recusively call it self again again\n",
    "        return fib(n-1) + fib(n-2)\n",
    "    \n",
    "#this line is used to take input from user\n",
    "n = int(input(\"Enter your number:\"))\n",
    "##call fib function which is used to return fibonacci number on a prticular specified nth term\n",
    "print(f\"your fibonacci number of {n} is {fib(n)}\")"
   ]
  },
  {
   "cell_type": "code",
   "execution_count": 16,
   "id": "1bec9ae1-bcd4-43a8-a8e8-1d3dfac729ba",
   "metadata": {},
   "outputs": [
    {
     "name": "stdout",
     "output_type": "stream",
     "text": [
      "55\n"
     ]
    }
   ],
   "source": [
    "# Write a recursive Python function to calculate the sum of all elements in a list.\n",
    "def sum_of_element(l): ##this function is used to calculate sum of all element of the list\n",
    "    if(len(l)==0): ##if list is empty then return 0\n",
    "        return 0\n",
    "    else: ##else return list of 0  + recursively call(l[1:])\n",
    "        return l[0] + sum_of_element(l[1:])\n",
    "l = [1,2,3,4,5,6,7,8,9,10] ##this is sample list for operation\n",
    "print(sum_of_element(l)) ##this line is used to print sum of element"
   ]
  },
  {
   "cell_type": "code",
   "execution_count": 15,
   "id": "413e94c1-9533-47dc-9276-61f66b425878",
   "metadata": {},
   "outputs": [
    {
     "data": {
      "text/plain": [
       "55"
      ]
     },
     "execution_count": 15,
     "metadata": {},
     "output_type": "execute_result"
    }
   ],
   "source": [
    "# How can you prevent a recursive function from running indefinitely, causing a stack overflow error?\n",
    "# i can prevent a recursion function from running indefinitely , cousing stack overflow error uning follwing methods\n",
    "# 1.Define a Base Case: The base case represents the condition under which the recursion stops and returns a result. Without a base case, the function will keep calling itself indefinitely.\n",
    "# 2.Test with Small Inputs:: When writing a recursive function, it's a good practice to test it with small inputs first to see if it behaves as expected and terminates properly. This helps you catch issues early"
   ]
  },
  {
   "cell_type": "code",
   "execution_count": 22,
   "id": "1eefc1f0-fc84-4304-8091-7ad83a9c9083",
   "metadata": {},
   "outputs": [
    {
     "name": "stdout",
     "output_type": "stream",
     "text": [
      "2\n"
     ]
    }
   ],
   "source": [
    "# Create a recursive Python function to find the greatest common divisor (GCD) of two numbers using the Euclidean algorithm.\n",
    "def GCD(a,b): ##this function is used to calculate GCD of (a & b)\n",
    "    if(b==0): ##if b==0 then return a ,this is a base condition \n",
    "        return a\n",
    "    else: ##else return GCD(b,a%b) ,This is a recursive condition\n",
    "        return GCD(b,a%b)\n",
    "print(GCD(2,56)) ##this line is used to display GCD(a,b)"
   ]
  },
  {
   "cell_type": "code",
   "execution_count": 41,
   "id": "6b456c97-be81-4b52-a865-757e1dd73fbc",
   "metadata": {},
   "outputs": [
    {
     "name": "stdout",
     "output_type": "stream",
     "text": [
      "mar\n"
     ]
    }
   ],
   "source": [
    "def reverse_str(s): ##this function is used to return reverse of any string\n",
    "    if(len(s)<=1): ##it is a base condition if len(string) is less the and equal to 1 then return s\n",
    "        return s\n",
    "    else: #else take 0th index string and place it at last and after again call this function again for 1th to n index\n",
    "        return reverse_str(s[1:]) + s[0]\n",
    "ans = reverse_str(\"ram\") ##call this recursive function \n",
    "print(ans) ##this line is used to display result"
   ]
  },
  {
   "cell_type": "code",
   "execution_count": 3,
   "id": "b5dad721-6e1c-4a6e-874c-182d0bbfcf9a",
   "metadata": {},
   "outputs": [
    {
     "name": "stdin",
     "output_type": "stream",
     "text": [
      "Enter your base: 2\n",
      "Enter your power value: 4\n"
     ]
    },
    {
     "name": "stdout",
     "output_type": "stream",
     "text": [
      "your answer 2^4 is 16 \n"
     ]
    }
   ],
   "source": [
    "# Create a recursive Python function to calculate the power of a number (x^n).\n",
    "def power(i,n): ##this program is used to calculate any poer of any value\n",
    "    if(n==0): ##it is a first base value if n==0 means power is 0 then answer is 1 so return 1\n",
    "        return 1\n",
    "    elif(n==1): ##2nd base condition is if n==1 then return i because if poewer of any number 1 then this return it self\n",
    "        return i\n",
    "    else: #else we call recusive block in this block our base is constanat and our power value is varriee or decrease 1 by 1\n",
    "        return i*power(i,n-1)\n",
    "i = int(input(\"Enter your base:\")) ##take values from user \n",
    "n = int(input(\"Enter your power value:\"))\n",
    "print(f\"your answer {i}^{n} is {power(i,n)} \") #this line is used to display answer"
   ]
  },
  {
   "cell_type": "code",
   "execution_count": 11,
   "id": "00e3359a-c424-4516-9716-08b3445ef7f1",
   "metadata": {},
   "outputs": [
    {
     "name": "stdin",
     "output_type": "stream",
     "text": [
      "Enter your string: aabd\n"
     ]
    },
    {
     "name": "stdout",
     "output_type": "stream",
     "text": [
      "['aabd', 'aadb', 'abad', 'abda', 'adab', 'adba', 'aabd', 'aadb', 'abad', 'abda', 'adab', 'adba', 'baad', 'bada', 'baad', 'bada', 'bdaa', 'bdaa', 'daab', 'daba', 'daab', 'daba', 'dbaa', 'dbaa']\n"
     ]
    }
   ],
   "source": [
    "def permuatation(s):\n",
    "     # Base case: If the string has only one character or is empty, there is only one permutation, which is the string itself.\n",
    "    if(len(s)<=1):\n",
    "        return [s]\n",
    "    # Initialize a list to store the permutations\n",
    "    per = []\n",
    "    # Iterate through each character in the string\n",
    "    for i in range(len(s)):\n",
    "        first = s[i]  # Choose the current character as the first character of the permutation\n",
    "        remain = s[:i] + s[i+1:] # Generate a subproblem by removing the current character from the string\n",
    "        sub_per = permuatation(remain) # Recursively find permutations of the remaining characters\n",
    "         # Combine the current character with each permutation of the remaining characters\n",
    "        for sub_per1 in sub_per:\n",
    "            per.append(first + sub_per1)\n",
    "    return per\n",
    "# Example usage:\n",
    "s = input(\"Enter your string:\")\n",
    "print(permuatation(s))"
   ]
  },
  {
   "cell_type": "code",
   "execution_count": 16,
   "id": "6f6ac224-06ab-43ff-816e-3441d930d747",
   "metadata": {},
   "outputs": [
    {
     "name": "stdin",
     "output_type": "stream",
     "text": [
      "Enter your string: rahul\n"
     ]
    },
    {
     "name": "stdout",
     "output_type": "stream",
     "text": [
      "This string 'rahul' is not palindrom\n"
     ]
    }
   ],
   "source": [
    "# Write a recursive Python function to check if a string is a palindrome.\n",
    "def reverse_str(s): ##this function is used to return reverse of any string\n",
    "    if(len(s)<=1): ##it is a base condition if len(string) is less the and equal to 1 then return s\n",
    "        return s\n",
    "    else: #else take 0th index string and place it at last and after again call this function again for 1th to n index\n",
    "        return reverse_str(s[1:]) + s[0]\n",
    "\n",
    "s = input(\"Enter your string:\") ##this line is used to take input from uer\n",
    "if(s==reverse_str(s)): ##if s is equal to reverse of string(which is calculate using recusive function)\n",
    "    print(f\"This string '{s}' is palindrom\") ##then this string is palindrom\n",
    "else: \n",
    "    print(f\"This string '{s}' is not palindrom\") ##else this string is not palindrom\n",
    "    "
   ]
  },
  {
   "cell_type": "code",
   "execution_count": 26,
   "id": "e8e5ef27-cdf9-4663-84b3-d7e98d45b6cc",
   "metadata": {},
   "outputs": [
    {
     "name": "stdout",
     "output_type": "stream",
     "text": [
      "[[1, 2, 3], [1, 3, 2], [2, 1, 3], [2, 3, 1], [3, 1, 2], [3, 2, 1]]\n"
     ]
    }
   ],
   "source": [
    "# Create a recursive Python function to generate all possible combinations of a list of elements.\n",
    "def permutation(lst):\n",
    "    if len(lst) <= 1:\n",
    "        return [lst]\n",
    "\n",
    "    per = []\n",
    "    for i in range(len(lst)):\n",
    "        first = lst[i]\n",
    "        remain = lst[:i] + lst[i+1:]\n",
    "        sub_per = permutation(remain)\n",
    "        for sub_per1 in sub_per:\n",
    "            per.append([first] + sub_per1)\n",
    "    return per\n",
    "\n",
    "lst = [1, 2, 3]\n",
    "result = permutation(lst)\n",
    "print(result)"
   ]
  },
  {
   "cell_type": "code",
   "execution_count": null,
   "id": "e514c7c2-e341-4d74-8491-fbc5f57c32d2",
   "metadata": {},
   "outputs": [],
   "source": [
    "# What is a function in Python, and why is it used?\n",
    "# function is a block of code which is used to perform some perticular operation like add or sub or many type of operation\n",
    "#function is used for write some unique block of code which return some value\n",
    "# when we want some work so we can simply call this function and do our work so code reusability is increase and code reweite burdan is decrease so that our line of code is decrease it help to maintain simplycity of our code \n"
   ]
  },
  {
   "cell_type": "code",
   "execution_count": 1,
   "id": "868fb1a4-a5d3-45b4-8e73-fcaa218f6dc7",
   "metadata": {},
   "outputs": [
    {
     "name": "stdin",
     "output_type": "stream",
     "text": [
      "Enter your number: 54\n",
      "Enter your number: 98\n"
     ]
    },
    {
     "name": "stdout",
     "output_type": "stream",
     "text": [
      "your answer is 152\n"
     ]
    }
   ],
   "source": [
    "# How do you define a function in Python? Provide an example.\n",
    "# we use def keyword for defining our function in python \n",
    "# after def we write function name and in small brackets we define argument if we use else we simly slip this part and use a colon (:)\n",
    "\n",
    "# syntax of function in python\n",
    "# def function name (arguments):\n",
    "    # body of the function\n",
    "    \n",
    "##we use indentation (one tab) in python we do not use {} in in python \n",
    "# and then body of the loop will start \n",
    "# lets take an example\n",
    "# add two numbers\n",
    "def add(a,b): ##this function is used to add two numbers so this function take two variablls as argumnet\n",
    "    return a+b ##return a + b \n",
    "a = int(input(\"Enter your number:\")) ##this line is used to take input from user\n",
    "b = int(input(\"Enter your number:\")) ##this line is used to take input from user\n",
    "print(f\"your answer is {add(a,b)}\") ##this line is used to display answer "
   ]
  },
  {
   "cell_type": "code",
   "execution_count": 3,
   "id": "133aba82-661b-4c71-9c00-ab55f0a47509",
   "metadata": {},
   "outputs": [
    {
     "name": "stdin",
     "output_type": "stream",
     "text": [
      "Enter your number: 65\n",
      "Enter your number: 78\n"
     ]
    },
    {
     "name": "stdout",
     "output_type": "stream",
     "text": [
      "your answer is 143\n"
     ]
    }
   ],
   "source": [
    "# Explain the difference between a function definition and a function call.\n",
    "##fuction definition  \n",
    "# function definition is a step of function in which we define a functiomn using def key woed\n",
    "#It typically appears in the program's source code before any function calls.\n",
    "# Changes made to the function definition affect all function calls using that definition.\n",
    "# It serves as a blueprint for the function's behavior and can be reused multiple times in the code.\n",
    "def add(a,b): ##this function is used to add two numbers so this function take two variablls as argumnet\n",
    "    return a+b ##return a + b \n",
    "##function call \n",
    "# function call is also step of functio in which we call this defined function using function name and pass if some arguement required\n",
    "#It appears in the program's source code when you want to execute the function and utilize its functionality.\n",
    "# Each function call can have different arguments, leading to different outcomes when the function is executed.\n",
    "# It triggers the actual execution of the function's code, and the function performs its defined tasks based on the provided inputs.\n",
    "a = int(input(\"Enter your number:\")) ##this line is used to take input from user\n",
    "b = int(input(\"Enter your number:\")) ##this line is used to take input from user\n",
    "print(f\"your answer is {add(a,b)}\") ##this line is used to display answer \n"
   ]
  },
  {
   "cell_type": "code",
   "execution_count": null,
   "id": "eeb8e0d3-49c7-46ee-b573-0f355034a9d1",
   "metadata": {},
   "outputs": [],
   "source": [
    "# Write a Python program that defines a function to calculate the sum of two numbers and then calls the function.\n",
    "\n",
    "def add(a,b): ##this function is used to add two numbers so this function take two variablls as argumnet\n",
    "    return a+b ##return a + b \n",
    "a = int(input(\"Enter your number:\")) ##this line is used to take input from user\n",
    "b = int(input(\"Enter your number:\")) ##this line is used to take input from user\n",
    "print(f\"your answer is {add(a,b)}\") ##this line is used to display answer "
   ]
  },
  {
   "cell_type": "code",
   "execution_count": null,
   "id": "b5bc9bc1-d60f-420a-a0b7-121775d9aa99",
   "metadata": {},
   "outputs": [],
   "source": [
    "# What is a function signature, and what information does it typically include?\n",
    "# a function declaration is  a fundamental part of a function declaration or definition in programming \n",
    "# it provides esential information about the function charcteristics , including its name ,return type , and parameters \n",
    "# the function signature is typically the first line of a function and serves as concise summary of how the function can be ued and what it does \n",
    "\n",
    "# def add_numbers(x: int, y: int) -> int:\n",
    "# In this function signature:\n",
    "\n",
    "# add_numbers is the function name.\n",
    "# int before x and y indicates that both parameters are of integer data type.\n",
    "# -> int specifies that the function will return an integer value.\n"
   ]
  },
  {
   "cell_type": "code",
   "execution_count": 1,
   "id": "621f5aa4-4f8f-4999-8136-b1eb3a751ad1",
   "metadata": {},
   "outputs": [
    {
     "name": "stdin",
     "output_type": "stream",
     "text": [
      "Enter your first number: 34\n",
      "Enter your second number: 2\n"
     ]
    },
    {
     "name": "stdout",
     "output_type": "stream",
     "text": [
      "your anser is 68\n"
     ]
    }
   ],
   "source": [
    "# Create a Python function that takes two arguments and returns their product.\n",
    "def product(a,b): ##this function is retuern product of two number\n",
    "    return a*b #take a and b and return product(a and b)\n",
    "a = int(input(\"Enter your first number:\")) ##take input from user\n",
    "b = int(input(\"Enter your second number:\")) ##take input from user\n",
    "print(f\"your anser is {product(a,b)}\") ##this line is used to print product of two number"
   ]
  },
  {
   "cell_type": "code",
   "execution_count": 3,
   "id": "27800911-66f2-404a-9c04-3fb8e6a908ca",
   "metadata": {},
   "outputs": [],
   "source": [
    "# Function Parameters and Arguments:"
   ]
  },
  {
   "cell_type": "code",
   "execution_count": 8,
   "id": "bc71eebd-2ece-416c-ad33-e127a94d15ba",
   "metadata": {},
   "outputs": [
    {
     "data": {
      "text/plain": [
       "113"
      ]
     },
     "execution_count": 8,
     "metadata": {},
     "output_type": "execute_result"
    }
   ],
   "source": [
    "# Explain the concepts of formal parameters and actual arguments in Python functions.\n",
    "# formal parameter and actual parameters are two way of passing arguments in function \n",
    "# formal parameter\n",
    "# in formal parameter there are a place holder or container that a function uses to do its job\n",
    "# when we define a function , we have specify these placeholders inside the parantheses. they're\n",
    "# like labels for the information the function needs to work correctly\n",
    "\n",
    "# for example: ##Here, x and y are formal parameters. They don't have values yet; they're just names for the numbers the function will work with.\n",
    "def add(a,b):\n",
    "    return a+b\n",
    "    \n",
    "# actual argument\n",
    "# actual arguments are the actual value or data that we provide to the function when we call it \n",
    "# we are essenstial filling in the placeholders with real data\n",
    "# we use same example but here we pass arguments in actual manner\n",
    "result = add(35,78) #Here, 5 and 3 are actual arguments. They are the real numbers that the add function will work on.\n",
    "result"
   ]
  },
  {
   "cell_type": "code",
   "execution_count": 9,
   "id": "facf2e59-0734-4044-8395-11bf6d9a8cc3",
   "metadata": {},
   "outputs": [
    {
     "name": "stdin",
     "output_type": "stream",
     "text": [
      "Enter your first number: 0\n",
      "Enter your second number: 0\n"
     ]
    },
    {
     "data": {
      "text/plain": [
       "1"
      ]
     },
     "execution_count": 9,
     "metadata": {},
     "output_type": "execute_result"
    }
   ],
   "source": [
    "# Write a Python program that defines a function with default argument values.\n",
    "\n",
    "def product_two_numbers(a=1,b=1): #this function is return product of two  numbers but here we use default argument\n",
    "    return a*b ##this line return product of two numbers\n",
    "\n",
    "a=int(input(\"Enter your first number:\")) ##this line is used to take firt input\n",
    "b =int(input(\"Enter your second number:\"))##this line is used to take second input\n",
    "product_two_numbers() #this line is used to display result here we does not pass any argumnet so here function takes default arguments which is a = 1 and b=1"
   ]
  },
  {
   "cell_type": "code",
   "execution_count": 4,
   "id": "a3f9cfc8-83bf-4f1b-95db-b527c4d4c5e7",
   "metadata": {},
   "outputs": [
    {
     "name": "stdout",
     "output_type": "stream",
     "text": [
      "Hello, Alice! You are 25 years old.\n",
      "Hello, User! You are 30 years old.\n"
     ]
    }
   ],
   "source": [
    "# How do you use keyword arguments in Python function calls? Provide an example.\n",
    "#in python we can use keyword arguent in function calls to specify by thier parameter name\n",
    "# rather than relying on their positionak order \n",
    "# this can make your code more readable and help you avoid mistake when calling function calls,along with many argumnet\n",
    "\n",
    "def greet(name=\"User\", age=30):\n",
    "    print(f\"Hello, {name}! You are {age} years old.\")\n",
    "greet(name=\"Alice\", age=25)\n",
    "\n",
    "# In this example, we're using keyword arguments to specify the values for name and age. The order of the arguments doesn't matter because we've explicitly mentioned the parameter names.\n",
    "# If you don't provide a value for a keyword argument, the function will use its default value, as specified in the function definition. For example:\n",
    "greet()\n"
   ]
  },
  {
   "cell_type": "code",
   "execution_count": 5,
   "id": "0e70808b-b307-4c76-ae4d-af87b9a8b7cf",
   "metadata": {},
   "outputs": [
    {
     "name": "stdout",
     "output_type": "stream",
     "text": [
      "your sum is 258\n"
     ]
    }
   ],
   "source": [
    "# Create a Python function that accepts a variable number of arguments and calculates their sum.\n",
    "def sum1(*args): #This function is used to calculate sum and argument which take multiple input at a time \n",
    "    sum = 0 ##this line is used to initialize sum by zero \n",
    "    for i in args: ##for loop for iterate every arguments\n",
    "        sum+=i ##every element add in sum\n",
    "    return sum ##return sum\n",
    "\n",
    "print(f\"your sum is {sum1(12,34,56,67,89)}\") #this line is used to  display answer"
   ]
  },
  {
   "cell_type": "code",
   "execution_count": 7,
   "id": "59bbfa71-af9d-419f-9655-206542a03e30",
   "metadata": {},
   "outputs": [
    {
     "name": "stdout",
     "output_type": "stream",
     "text": [
      "your sum is 258\n",
      "name:rahul\n",
      "age:12\n",
      "city:meerut\n"
     ]
    }
   ],
   "source": [
    "# What is the purpose of the `*args` and `**kwargs` syntax in function parameter lists?\n",
    "\n",
    "# '*args' is used to collect a variable number of positional arguments into a tuple within the function \n",
    "# it allows you to pass any number of positional arguments when calling the function \n",
    "# inside the function you can iterate through the args tuple to work with thw passed argument\n",
    "def sum1(*args): #This function is used to calculate sum and argument which take multiple input at a time \n",
    "    sum = 0 ##this line is used to initialize sum by zero \n",
    "    for i in args: ##for loop for iterate every arguments\n",
    "        sum+=i ##every element add in sum\n",
    "    return sum ##return sum\n",
    "\n",
    "print(f\"your sum is {sum1(12,34,56,67,89)}\") #this line is used to  display answer\n",
    "\n",
    "\n",
    "\n",
    "# **kwargs (arbitary keyword arguments):\n",
    "# '**kwargs' is used to collect a variable number of keyword arguments into a dictionary within the functiom\n",
    "# it allows you to pass any number of keyword arguments when calling the function\n",
    "# inside the function you can access  the keyword arguments as keyvalue pair in the 'kwargs' dictinary\n",
    "def display_info(**kwargs):\n",
    "    for key,value in kwargs.items():\n",
    "        print(f\"{key}:{value}\")\n",
    "display_info(name= \"rahul\",age= \"12\",city ='meerut')"
   ]
  },
  {
   "cell_type": "code",
   "execution_count": null,
   "id": "c0735237-a6c2-49e7-a35e-c1ac34103034",
   "metadata": {},
   "outputs": [],
   "source": [
    "# Return Values and Scoping:\n"
   ]
  },
  {
   "cell_type": "code",
   "execution_count": 8,
   "id": "77a3b688-ffa9-49f5-ba21-d52dab750b60",
   "metadata": {},
   "outputs": [
    {
     "name": "stdout",
     "output_type": "stream",
     "text": [
      "8\n",
      "True\n",
      "False\n",
      "Hello, Alice!\n"
     ]
    }
   ],
   "source": [
    "# Describe the role of the `return` statement in Python functions and provide examples.\n",
    "#The return statement in Python functions plays a crucial role in controlling the flow of a function and specifying what value or result the function should provide to the caller.\n",
    "# It allows a function to return a result to the caller, which can be stored in a variable, used in expressions, or further processed.\n",
    "\n",
    "##there are following role of the rturn statement in python function\n",
    "\n",
    "# 1.Returning a value:\n",
    "# The primary role of the return statement is to specify the value or result that the function should produce and return to the caller.\n",
    "# This returned value can be of any data type, including integers, floats, strings, lists, dictionaries, or custom objects.\n",
    "\n",
    "# 2. Termination a value\n",
    "# When a return statement is encountered in a function, it immediately terminates the function's execution, and the control flow returns to the point where the function was called.\n",
    "# Any code following the return statement in the function will not be executed.\n",
    "\n",
    "# 3.Multiple Return statements:\n",
    "# a function cam contain multiple return statement. but only one of them will be excuted based on a condition .\n",
    "# once a return statement is excuted the functio exists\n",
    "\n",
    "# 4. Returning 'none' (Default):\n",
    "    # if a function does not contain a return statement or if it has a return statment without a value .\n",
    "# the function will automatically return none by default \n",
    "\n",
    "# Function that returns the sum of two numbers\n",
    "def add(x, y):\n",
    "    result = x + y\n",
    "    return result\n",
    "\n",
    "# Calling the function and storing the result in a variable\n",
    "sum_result = add(5, 3)\n",
    "print(sum_result)  # Output: 8\n",
    "\n",
    "# Function with conditional return\n",
    "def is_even(number):\n",
    "    if number % 2 == 0:\n",
    "        return True\n",
    "    else:\n",
    "        return False\n",
    "\n",
    "# Calling the function and using the returned value directly\n",
    "print(is_even(6))  # Output: True\n",
    "print(is_even(7))  # Output: False\n",
    "\n",
    "# Function with no explicit return (returns None by default)\n",
    "def say_hello(name):\n",
    "    print(f\"Hello, {name}!\")\n",
    "\n",
    "# Calling the function and not storing the return value\n",
    "say_hello(\"Alice\")  # Output: Hello, Alice!\n",
    "\n"
   ]
  },
  {
   "cell_type": "code",
   "execution_count": 1,
   "id": "e2f9e330-bd39-49d4-865c-317061a6bbbc",
   "metadata": {},
   "outputs": [
    {
     "ename": "SyntaxError",
     "evalue": "invalid syntax (4232390871.py, line 8)",
     "output_type": "error",
     "traceback": [
      "\u001b[0;36m  Cell \u001b[0;32mIn[1], line 8\u001b[0;36m\u001b[0m\n\u001b[0;31m    local scope:\u001b[0m\n\u001b[0m          ^\u001b[0m\n\u001b[0;31mSyntaxError\u001b[0m\u001b[0;31m:\u001b[0m invalid syntax\n"
     ]
    }
   ],
   "source": [
    "# Explain the concept of variable scope in Python, including local and global variables.\n",
    "# in python , variable scope refers to the area of the program where a perticular variable is\n",
    "# accessible or visible\n",
    "# python has two main type of variable scope\n",
    "# 1). Local scope \n",
    "# 2). Global global\n",
    "\n",
    "local scope:\n",
    "    # variable defined inisde a functon have local scope.\n",
    "    # they are only accessible within that function \n",
    "    #local varible is created when the function is called and destryed when function is exit. they do persist beyond the function\n",
    "    #attempt to access a local variable outside of the function in which it is defined will result in a \"nameError\"\n",
    "def func():\n",
    "    x = 10 #x is a local varible \n",
    "    print(x)\n",
    "\n",
    "func()\n",
    "print(x) ## # This will raise a NameError because x is not defined in the global scope\n",
    "\n",
    "        \n",
    "    \n"
   ]
  },
  {
   "cell_type": "code",
   "execution_count": 2,
   "id": "9a6d30a0-7b21-4ed6-a87a-2bec1d2280c3",
   "metadata": {},
   "outputs": [
    {
     "name": "stdout",
     "output_type": "stream",
     "text": [
      "20\n"
     ]
    }
   ],
   "source": [
    "##Global scope:\n",
    "# variable defined at the top of the levelof a python program. they can be accessed any where in the code\n",
    "#global variabe persist throughout the program's execution and canbe modified from different parts of the code \n",
    "# if you want to modify a global variable with in function ,you need to use the 'global' keyword to indicate that you are working with the global variable ,not creating a new local one\n",
    "y = 20\n",
    "def modify_global():\n",
    "    global y ##Indicate that we want to modify thee global y\n",
    "    y = 30\n",
    "print(y)"
   ]
  },
  {
   "cell_type": "code",
   "execution_count": 3,
   "id": "e9486052-29d0-4834-ad0c-1fca3dcae545",
   "metadata": {},
   "outputs": [
    {
     "name": "stdout",
     "output_type": "stream",
     "text": [
      "initial global variable 10\n",
      "global variable after increment: 15\n"
     ]
    }
   ],
   "source": [
    "# Write a Python program that demonstrates the use of global variables within functions.\n",
    "# Define a global variable\n",
    "global_variable = 10\n",
    "\n",
    "\n",
    "# Function that uses a global variable\n",
    "def increment_global_variable():\n",
    "    global global_variable\n",
    "    global_variable+=5\n",
    "\n",
    "# Function that prints the global variable\n",
    "def print_global():\n",
    "    print(\"globa variable\",global_variable)\n",
    "# Calling the functions\n",
    "print(\"initial global variable\",global_variable)\n",
    "increment_global_variable()\n",
    "print(\"global variable after increment:\",global_variable)"
   ]
  },
  {
   "cell_type": "code",
   "execution_count": 5,
   "id": "fc77a634-0f8e-4b99-8829-de0e31dd752a",
   "metadata": {},
   "outputs": [
    {
     "name": "stdout",
     "output_type": "stream",
     "text": [
      "295232799039604140847618609643520000000\n"
     ]
    }
   ],
   "source": [
    "# Create a Python function that calculates the factorial of a number and returns it.\n",
    "def fact(n):\n",
    "    if(n==0 or n==1):\n",
    "        return 1\n",
    "    else:\n",
    "        return n*fact(n-1)\n",
    "print(fact(34))"
   ]
  },
  {
   "cell_type": "code",
   "execution_count": null,
   "id": "d7be64d9-60bf-4086-abef-696b2349e6ed",
   "metadata": {},
   "outputs": [],
   "source": [
    "# How can you access variables defined outside a function from within the function?\n",
    "we can access variables defined outside a function from within the function by following these gneral guidlines:\n",
    "1.Scope :\n",
    "    scope refers to the region of our code where a variable is valid and can be accessed\n",
    "    there are typically two types\n",
    "    1 local scope:\n",
    "        it is defined as a region of the code where defined varibale can be accssed only this block of code\n",
    "        if we define a variable with in a function so this varible can be accessed with in the function only because this function lies in local scope\n",
    "\n",
    "\n",
    "    2 Global scope:\n",
    "        if we want to accese some variabale any where of the code then we define this variable at the top of the program  and can accessed any where os this variable lies in global scope\n",
    "    # Global scope\n",
    "global_var = 10\n",
    "\n",
    "# Function that accesses the global variable\n",
    "def access_global_var():\n",
    "    # Access the global variable within the function\n",
    "    print(\"Global variable:\", global_var)\n",
    "\n",
    "# Call the function\n",
    "access_global_var()\n",
    "\n",
    "    "
   ]
  },
  {
   "cell_type": "code",
   "execution_count": null,
   "id": "33ed58e4-9c76-48a0-b811-3ec541792605",
   "metadata": {},
   "outputs": [],
   "source": [
    "# Lambda Functions and Higher-Order Functions:\n"
   ]
  },
  {
   "cell_type": "code",
   "execution_count": 4,
   "id": "ab27cb6b-a7f1-4a67-bb5b-70c605ce9fbf",
   "metadata": {},
   "outputs": [
    {
     "name": "stdout",
     "output_type": "stream",
     "text": [
      "9\n"
     ]
    }
   ],
   "source": [
    "# What are lambda functions in Python, and when are they typically used?\n",
    "# lamnda function refered to as a anonymous function \n",
    "# lambda function are small ,inline function and nameless function \n",
    "# they can simple used for short and simple operation that can be defied in a single line of code\n",
    "# lambda function are created using lambda keyword and are commonly used in following scenerios:\n",
    "# 1 functional programming\n",
    "# 2 sorting\n",
    "# 3 key functions\n",
    "\n",
    "square = lambda x:x**2 ##it is a lambda function which is perform square operation\n",
    "print(square(3)) ##this line is used to print(squre of a number)"
   ]
  },
  {
   "cell_type": "code",
   "execution_count": 10,
   "id": "629e361e-5edc-42b6-b0eb-dfc40b7d668f",
   "metadata": {},
   "outputs": [
    {
     "name": "stdout",
     "output_type": "stream",
     "text": [
      "[(1, 1), (1, 2), (1, 3), (1, 4), (1, 5), (1, 12)]\n"
     ]
    }
   ],
   "source": [
    "# Write a Python program that uses lambda functions to sort a list of tuples based on the second element\n",
    "# List of tuples\n",
    "data = [(1,3),(1,4),(1,12),(1,5),(1,2),(1,1)]\n",
    "# Sorting the list based on the second element of each tuple\n",
    "sorted_data = sorted(data,key = lambda  x:x[1])\n",
    "# Display the sorted list\n",
    "print(sorted_data)"
   ]
  },
  {
   "cell_type": "code",
   "execution_count": 1,
   "id": "dd488d41-3f9c-47c3-a08c-8b0ec266fcd8",
   "metadata": {},
   "outputs": [
    {
     "name": "stdout",
     "output_type": "stream",
     "text": [
      "this is your square: [1, 4, 9, 16, 25, 4225, 36, 49, 64, 81]\n",
      "This is your cube : [1, 8, 27, 64, 125, 274625, 216, 343, 512, 729]\n"
     ]
    }
   ],
   "source": [
    "# Explain the concept of higher-order functions in Python, and provide an example.\n",
    "# higher oerder function is a function in python which is used to calculate some operation using to take more then one function at a single time as an argument and it can return a function as it result \n",
    "# it treats function as first-class citizen and allowing to manupulate abd use a function just like other data type ,\n",
    "# such as integers or strings\n",
    "# higher order function enables a more functional programming style and can lead to more concise and modular code \n",
    "# Higher-order function example: map()\n",
    "def square(x): ##this function is return square of a number\n",
    "    return x**2\n",
    "def cube(x): #this function return cube of a number\n",
    "    return x**3\n",
    "def main_function(func,num_list): ##this is a main_function which take a function and a list and perforn some specified operations on this element of the list\n",
    "    result = [] ##this is a empty list which is used to save result\n",
    "    for num in num_list: ##this loop is used to take an element of the list and peerforn some specified operation\n",
    "        result.append(func(num)) #this line is used to append and in result list\n",
    "    return result ##this line is used to return result \n",
    "\n",
    "numbers = [1,2,3,4,5,65,6,7,8,9] ##this is a sampled list used for operation\n",
    "squred_number = main_function(square,numbers) #this line is used take result of square of an list of all element\n",
    "print(\"this is your square:\",squred_number)\n",
    "cubed_number = main_function(cube,numbers) #this line is used take result of cube of an list of all element\n",
    "print(\"This is your cube :\",cubed_number)\n",
    "        "
   ]
  },
  {
   "cell_type": "code",
   "execution_count": null,
   "id": "d78dfbf4-a3f1-4304-92d0-df031a9ca41f",
   "metadata": {},
   "outputs": [],
   "source": [
    "# Create a Python function that takes a list of numbers and a function as arguments, applying the function to each element in the list.\n",
    "def square(x): ##this function is return square of a number\n",
    "    return x**2\n",
    "def cube(x): #this function return cube of a number\n",
    "    return x**3\n",
    "def main_function(func,num_list): ##this is a main_function which take a function and a list and perforn some specified operations on this element of the list\n",
    "    result = [] ##this is a empty list which is used to save result\n",
    "    for num in num_list: ##this loop is used to take an element of the list and peerforn some specified operation\n",
    "        result.append(func(num)) #this line is used to append and in result list\n",
    "    return result ##this line is used to return result \n",
    "\n",
    "numbers = [1,2,3,4,5,65,6,7,8,9] ##this is a sampled list used for operation\n",
    "squred_number = main_function(square,numbers) #this line is used take result of square of an list of all element\n",
    "print(\"this is your square:\",squred_number)\n",
    "cubed_number = main_function(cube,numbers) #this line is used take result of cube of an list of all element\n",
    "print(\"This is your cube :\",cubed_number)\n",
    "        "
   ]
  },
  {
   "cell_type": "code",
   "execution_count": null,
   "id": "343ef09d-5811-445f-ab8d-9b4051bd0df9",
   "metadata": {},
   "outputs": [],
   "source": [
    "# Built-in Functions:"
   ]
  },
  {
   "cell_type": "code",
   "execution_count": 1,
   "id": "31877c5f-139b-4552-a4c2-6d4d9ab9f00d",
   "metadata": {},
   "outputs": [
    {
     "name": "stdout",
     "output_type": "stream",
     "text": [
      "5\n",
      "5\n",
      "1\n"
     ]
    }
   ],
   "source": [
    "## Describe the role of built-in functions like `len()`, `max()`, and `min()` in Python.\n",
    "# len() - len function is used to return length of th numbers of items in a data structures\n",
    "my_list = [1,2,3,4,5]\n",
    "print(len(my_list))\n",
    "#max() - max function is used to find maximum element within a sequence or collection\n",
    "# it can be applied to various data type , including ,string,numbers and more\n",
    "print(max(my_list))\n",
    "\n",
    "# min() - min function is opposite of max function it is used to find minimum element within  a sequence or collection\n",
    "print(min(my_list))"
   ]
  },
  {
   "cell_type": "code",
   "execution_count": 8,
   "id": "7dcf4501-b4e4-47d9-acb2-f2726592df3c",
   "metadata": {},
   "outputs": [
    {
     "name": "stdout",
     "output_type": "stream",
     "text": [
      "[1, 4, 9]\n"
     ]
    }
   ],
   "source": [
    "# Write a Python program that uses the `map()` function to apply a function to each element of a list.\n",
    "def square(x): #this function is used to return square of an element of the list\n",
    "    return x**2 #this line is used to return square of a number\n",
    "l = [1,2,3] ##this line is used to take a sample list\n",
    "ans = list(map(square, l)) ##this line is used map function taking a function and  a list for calculation\n",
    "print(ans) ##this line is used to print ans "
   ]
  },
  {
   "cell_type": "code",
   "execution_count": 14,
   "id": "93e2bbae-36fa-4935-97fb-469f51e35067",
   "metadata": {},
   "outputs": [
    {
     "name": "stdout",
     "output_type": "stream",
     "text": [
      "[2, 4, 56, 78, 8, 56]\n"
     ]
    }
   ],
   "source": [
    "# How does the `filter()` function work in Python, and when would you use it?\n",
    "\n",
    "# filter function is a function which is used to filter something from list or iterable based on specified condition and it return an iterator contain the element thatsatisfy the condition .\n",
    "# syntax:\n",
    "# filtred_element = filter(condition,iterable) \n",
    "# example:\n",
    "numbers = [1,2,3,4,5,56,67,78,8,9,56] #this is sample list\n",
    "is_even = lambda x:x%2==0 ##this is a lambda whuch is used to filter even number\n",
    "even_numbers =  list(filter(is_even,numbers)) ##this line is used to filter even numbers using filter function\n",
    "print(even_numbers) ##this line is used to dsplay evennumber list"
   ]
  },
  {
   "cell_type": "code",
   "execution_count": 17,
   "id": "3ee7f7fa-ba15-48fd-b359-ef156200a5df",
   "metadata": {},
   "outputs": [
    {
     "name": "stdout",
     "output_type": "stream",
     "text": [
      "your ans is 225120\n"
     ]
    }
   ],
   "source": [
    "from functools import reduce ##this line is used to import reduce in program in from functools library\n",
    "def product(x,y): ##this line is used to return product of two numbers\n",
    "   return x*y \n",
    "\n",
    "numbers = [1,2,3,4,5,4,67,7]   #this numbers list is used as sample list\n",
    "     \n",
    "ans = reduce(product,numbers) #this line use to reduce numbers list and reduce in product of each element\n",
    "print(\"your ans is\",ans) #this line is used to display ans of which calculated"
   ]
  },
  {
   "cell_type": "code",
   "execution_count": null,
   "id": "ee47f301-8688-4adc-b0ea-6ed3b37fb7cc",
   "metadata": {},
   "outputs": [],
   "source": [
    "# Function Documentation and Best Practices:\n"
   ]
  },
  {
   "cell_type": "code",
   "execution_count": 20,
   "id": "ab535ef4-223b-4f04-bfe8-990d345c083f",
   "metadata": {},
   "outputs": [
    {
     "name": "stdout",
     "output_type": "stream",
     "text": [
      "Help on function add in module __main__:\n",
      "\n",
      "add(x, y)\n",
      "    This function takes two numbers as input and returns their sum.\n",
      "    \n",
      "    Args:\n",
      "        x (int or float): The first number.\n",
      "        y (int or float): The second number.\n",
      "    \n",
      "    Returns:\n",
      "        int or float: The sum of x and y.\n",
      "\n",
      "\n",
      "    This function takes two numbers as input and returns their sum.\n",
      "\n",
      "    Args:\n",
      "        x (int or float): The first number.\n",
      "        y (int or float): The second number.\n",
      "\n",
      "    Returns:\n",
      "        int or float: The sum of x and y.\n",
      "    \n"
     ]
    }
   ],
   "source": [
    "\n",
    "# Explain the purpose of docstrings in Python functions and how to write them.\n",
    "# docstring in pytho are used to provide documenation and description for functions\n",
    "# methods , modules and clases .\n",
    "# they serves a way to documentation your code, making it more understandable and accessible to others (include yourself) who might read or  use your code\n",
    "def add(x,y):\n",
    "    \"\"\"\n",
    "    This function takes two numbers as input and returns their sum.\n",
    "\n",
    "    Args:\n",
    "        x (int or float): The first number.\n",
    "        y (int or float): The second number.\n",
    "\n",
    "    Returns:\n",
    "        int or float: The sum of x and y.\n",
    "    \"\"\"\n",
    "    return x + y \n",
    "# if we want to display docstring in the console we use help keyword\n",
    "help(add)  # Displays the docstring in the console\n",
    "\n",
    "# Or, access the docstring as a string\n",
    "docstring_text = add.__doc__\n",
    "print(docstring_text)\n",
    "\n",
    "#When writing docstrings, it's a good practice to follow a consistent format, such as the one shown in the example."
   ]
  },
  {
   "cell_type": "code",
   "execution_count": null,
   "id": "329c1b03-24f5-4afc-afad-ba44ee23a093",
   "metadata": {},
   "outputs": [],
   "source": [
    "# # Describe some best practices for naming functions and variables in Python, including naming conventions and guidelines.\n",
    "#  there are following best practice for namming functions and variables in python\n",
    "#     1.use descriptive and clear names:\n",
    "#         Choose names that clearly and concisely describe the purpose or functionality of the function or variable.\n",
    "#     2. follow PEP 8 :\n",
    "#          PEP 8 is Python's official style guide, which provides naming conventions.\n",
    "#          Use lowercase letters for variable and function names.\n",
    "#          Use lowercase letters with underscores for multiple-word names (e.g., word_count)\n",
    "#          use Uppercase letters for constants(e.g.,PI)\n",
    "#          use a single underscore ('_') as prefx to indicate magling with a class (e.g.,__private_var)\n",
    "            \n",
    "    "
   ]
  },
  {
   "cell_type": "code",
   "execution_count": null,
   "id": "d827ed80-9592-4a50-8795-51a3bee0693c",
   "metadata": {},
   "outputs": [],
   "source": []
  }
 ],
 "metadata": {
  "kernelspec": {
   "display_name": "Python 3 (ipykernel)",
   "language": "python",
   "name": "python3"
  },
  "language_info": {
   "codemirror_mode": {
    "name": "ipython",
    "version": 3
   },
   "file_extension": ".py",
   "mimetype": "text/x-python",
   "name": "python",
   "nbconvert_exporter": "python",
   "pygments_lexer": "ipython3",
   "version": "3.10.8"
  }
 },
 "nbformat": 4,
 "nbformat_minor": 5
}
